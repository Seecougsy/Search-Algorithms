{
 "cells": [
  {
   "metadata": {},
   "cell_type": "markdown",
   "source": [
    "# Breadth First Search - *Uninformed Search*\n",
    "\n",
    "### Overview\n",
    "This notebook implements Breadth First Search (BFS) an uninformed search algorithm. The goal is to find a path from the start to the finish in a maze represented as a 2D array.\n",
    "### Breadth First Search\n",
    "- Breadth First Search (BFS) explores all nodes at each depth, before expanding nodes at a layer under.  This means unlike DFS, the node in the frontier are explored using a First In First Out (FIFO) queue, where the *oldest* discovered node is expanded first.\n",
    "- This implementation of BFS will include `path-cost` to return an optimal solution.\n",
    "### Search Strategy\n",
    "- Initializes the frontier using the initial state of the problem. Explore set = None.\n",
    "- Take the *first* node in the queue and removes it from the frontier. \n",
    "- Check if the node is goal state. \n",
    "- if the frontier is empty break. \n",
    "- if not? FIFO pop() (oldest) from frontier.\n",
    "- Add the node to explored set\n",
    "- For every neighbour of the current node\n",
    "- Loop until frontier is empty or goal is found. \n",
    "\n",
    "### Steps:\n",
    "1. **Convert the maze into a 2D Array**: Load maze data and convert it to integer format for processing.\n",
    "2. **Implementing BFS**: Use a stack class with FIFO queue to manage the nodes during the search process.\n",
    "3. **Visualizing the Path**: Use matplotlib to illustrate the start, the path, and the goal within the maze.\n",
    "\n",
    "\n"
   ],
   "id": "9ee46c8fe667091b"
  },
  {
   "metadata": {},
   "cell_type": "markdown",
   "source": "# Implementing Breadth First Search",
   "id": "a6c340eb6170c008"
  },
  {
   "metadata": {
    "ExecuteTime": {
     "end_time": "2024-05-11T04:47:38.569745Z",
     "start_time": "2024-05-11T04:47:38.567215Z"
    }
   },
   "cell_type": "code",
   "source": [
    "# import the modules creates\n",
    "# These come from the source_code file\n"
   ],
   "id": "b4677fadab923207",
   "outputs": [],
   "execution_count": 85
  },
  {
   "metadata": {},
   "cell_type": "markdown",
   "source": [
    "# Load and Prepare Maze Data\n",
    "1. Load the maze data and convert it to a usable format.\n",
    "2. Find the starting state (2)\n",
    "3. Find the end state (9) "
   ],
   "id": "aa7ef113e77761ef"
  },
  {
   "metadata": {
    "ExecuteTime": {
     "end_time": "2024-05-11T04:47:38.590512Z",
     "start_time": "2024-05-11T04:47:38.587775Z"
    }
   },
   "cell_type": "code",
   "source": [
    "from Breadth_First_Search import *\n",
    "from Helpers import *\n",
    "from Visualisations import *\n"
   ],
   "id": "f8cd8d0b7711e49f",
   "outputs": [],
   "execution_count": 86
  },
  {
   "metadata": {
    "ExecuteTime": {
     "end_time": "2024-05-11T04:47:38.621443Z",
     "start_time": "2024-05-11T04:47:38.616406Z"
    }
   },
   "cell_type": "code",
   "source": [
    "# take the string maze, load it to text with numpy\n",
    "# Convert string type to int\n",
    "maze_array_string = np.loadtxt('/Users/calebcougle/PycharmProjects/CAI104_COUGLE_A3/Mazes/a3maze.txt', dtype='str', delimiter=\",\")\n",
    "a3_maze = string_to_int_array(maze_array_string)\n",
    "\n",
    "# The output is a 2D numpy array \n",
    "print(a3_maze)"
   ],
   "id": "ed2a2019f7a4acff",
   "outputs": [
    {
     "name": "stdout",
     "output_type": "stream",
     "text": [
      "[[1 1 1 1 1 1 1 1 1 1 1 1 1 1 1 1 1 1 1 1 1 1 1 1]\n",
      " [1 0 0 0 0 0 0 0 0 1 0 0 0 0 0 0 0 0 0 0 0 0 0 1]\n",
      " [1 0 2 0 0 0 0 0 0 1 0 0 0 0 0 0 0 1 1 1 1 1 0 1]\n",
      " [1 0 0 0 0 0 0 0 0 1 0 0 0 0 0 0 0 1 0 0 0 1 0 1]\n",
      " [1 0 0 0 0 0 0 0 0 1 0 0 0 1 1 1 1 1 0 0 9 1 0 1]\n",
      " [1 0 0 0 0 0 0 0 0 1 0 0 0 1 1 0 0 1 0 0 0 1 0 1]\n",
      " [1 0 1 1 1 1 1 1 1 1 0 0 0 1 0 0 0 1 0 0 0 1 0 1]\n",
      " [1 0 0 0 0 0 0 0 0 1 0 0 0 1 0 1 0 1 0 0 0 1 0 1]\n",
      " [1 0 0 0 0 0 0 0 0 1 0 0 0 1 1 1 0 1 0 0 0 1 0 1]\n",
      " [1 0 1 1 1 0 0 0 0 0 0 0 0 0 0 0 0 1 0 0 0 1 0 1]\n",
      " [1 0 0 0 1 0 1 1 1 1 0 0 0 0 0 0 0 1 0 0 0 0 0 1]\n",
      " [1 1 1 1 1 1 1 1 1 1 1 1 1 1 1 1 1 1 1 1 1 1 1 1]]\n"
     ]
    }
   ],
   "execution_count": 87
  },
  {
   "metadata": {
    "ExecuteTime": {
     "end_time": "2024-05-11T04:47:38.626847Z",
     "start_time": "2024-05-11T04:47:38.623443Z"
    }
   },
   "cell_type": "code",
   "source": [
    "a3_maze_start = find_start(a3_maze)\n",
    "a3_maze_goal_point = find_goal(a3_maze)\n",
    "\n",
    "print(\"Start\", a3_maze_start,\"Goal:\", a3_maze_goal_point)"
   ],
   "id": "7a952f3af361e543",
   "outputs": [
    {
     "name": "stdout",
     "output_type": "stream",
     "text": [
      "Start (2, 2) Goal: (4, 20)\n"
     ]
    }
   ],
   "execution_count": 88
  },
  {
   "metadata": {
    "ExecuteTime": {
     "end_time": "2024-05-11T04:47:38.696527Z",
     "start_time": "2024-05-11T04:47:38.632325Z"
    }
   },
   "cell_type": "code",
   "source": "plot_maze(a3_maze, \"Problem Space\")",
   "id": "97fb427f78a8fa29",
   "outputs": [
    {
     "data": {
      "text/plain": [
       "<Figure size 500x500 with 1 Axes>"
      ],
      "image/png": "[encoded data removed]"
     },
     "metadata": {},
     "output_type": "display_data"
    }
   ],
   "execution_count": 89
  },
  {
   "metadata": {},
   "cell_type": "markdown",
   "source": [
    "# FIFO Queue Class Definition\n",
    "- The data queue class from DFS can be adapted for BFS; *however*, it functions as a LIFO with the `FIFO_Pop()` method.\n",
    "- The stack holds the frontier or 'discovered' nodes pending exploration.\n",
    "- The class methods labeled FIFO implement the BFS search strategy, `First in First Out`, returning the oldest node from the queue\n",
    "(Russell & Norvig, 2016)"
   ],
   "id": "c974068d0d3d40b0"
  },
  {
   "metadata": {},
   "cell_type": "markdown",
   "source": [
    "# Breadth First Search (BFS) Implementation\n",
    "\n",
    "- **Function Definition**: The `bfs()` function implements the breadth-first search algorithm, utilizing methods from the `fifo` class to manage nodes during the search.\n",
    "- **Initial State**: The starting node (`start`) is pushed onto the stack, as identified in previous functions.\n",
    "- **Predecessors Dictionary**: The `predecessors{}` dictionary functions similarly to an explored list; it records node traversal and returns the solution path when the goal is found.\n",
    "- **Current Node**: The `current_cell`, analogous to the current node, is the most recently added node on the stack, retrieved using the `fifo.pop(0)` method.\n",
    "- **Expanding Frontier**: The frontier expands as the nested `for` loop iterates over directions, pushing neighbors onto the stack. Neighbors are discovered by adding the directional offset to the current node's array index. *Example:* Turn Right = `current_column + 1`.\n",
    "- **Dead End Handling**: The `is_legal_pos()` function checks for dead ends, walls, and maze boundaries, ensuring movements are within the permissible range.\n",
    "- **Goal Check & Solution Path**: If the current node is the goal, the `get_path()` function is invoked to backtrack through the `predecessors` dictionary and construct the path from the start to the goal.\n"
   ],
   "id": "43a63f2edc01e034"
  },
  {
   "metadata": {
    "ExecuteTime": {
     "end_time": "2024-05-11T04:47:38.702724Z",
     "start_time": "2024-05-11T04:47:38.698752Z"
    }
   },
   "cell_type": "code",
   "source": [
    "bfs_solution_path, bfs_traversed = bfs(a3_maze, a3_maze_start, a3_maze_goal_point)\n",
    "print(\"Solution path:\", bfs_solution_path,\"\\nTraversed:\", bfs_traversed)"
   ],
   "id": "2eb9647165c01ff8",
   "outputs": [
    {
     "name": "stdout",
     "output_type": "stream",
     "text": [
      "Solution path: [(2, 2), (3, 2), (4, 2), (5, 2), (5, 1), (6, 1), (7, 1), (7, 2), (7, 3), (7, 4), (7, 5), (7, 6), (7, 7), (7, 8), (8, 8), (9, 8), (9, 9), (9, 10), (8, 10), (7, 10), (6, 10), (5, 10), (4, 10), (3, 10), (2, 10), (1, 10), (1, 11), (1, 12), (1, 13), (1, 14), (1, 15), (1, 16), (1, 17), (1, 18), (1, 19), (1, 20), (1, 21), (1, 22), (2, 22), (3, 22), (4, 22), (5, 22), (6, 22), (7, 22), (8, 22), (9, 22), (10, 22), (10, 21), (10, 20), (9, 20), (8, 20), (7, 20), (6, 20), (5, 20), (4, 20)] \n",
      "Traversed: [(2, 2), (1, 2), (2, 3), (3, 2), (2, 1), (1, 3), (1, 1), (2, 4), (3, 3), (4, 2), (3, 1), (1, 4), (2, 5), (3, 4), (4, 3), (5, 2), (4, 1), (1, 5), (2, 6), (3, 5), (4, 4), (5, 3), (5, 1), (1, 6), (2, 7), (3, 6), (4, 5), (5, 4), (6, 1), (1, 7), (2, 8), (3, 7), (4, 6), (5, 5), (7, 1), (1, 8), (3, 8), (4, 7), (5, 6), (7, 2), (8, 1), (4, 8), (5, 7), (7, 3), (8, 2), (9, 1), (5, 8), (7, 4), (8, 3), (10, 1), (7, 5), (8, 4), (10, 2), (7, 6), (8, 5), (10, 3), (7, 7), (8, 6), (9, 5), (7, 8), (8, 7), (9, 6), (10, 5), (8, 8), (9, 7), (9, 8), (9, 9), (9, 10), (8, 10), (9, 11), (10, 10), (7, 10), (8, 11), (9, 12), (10, 11), (6, 10), (7, 11), (8, 12), (9, 13), (10, 12), (5, 10), (6, 11), (7, 12), (9, 14), (10, 13), (4, 10), (5, 11), (6, 12), (9, 15), (10, 14), (3, 10), (4, 11), (5, 12), (9, 16), (10, 15), (2, 10), (3, 11), (4, 12), (8, 16), (10, 16), (1, 10), (2, 11), (3, 12), (7, 16), (1, 11), (2, 12), (3, 13), (6, 16), (1, 12), (2, 13), (3, 14), (5, 16), (6, 15), (1, 13), (2, 14), (3, 15), (5, 15), (6, 14), (1, 14), (2, 15), (3, 16), (7, 14), (1, 15), (2, 16), (1, 16), (1, 17), (1, 18), (1, 19), (1, 20), (1, 21), (1, 22), (2, 22), (3, 22), (4, 22), (5, 22), (6, 22), (7, 22), (8, 22), (9, 22), (10, 22), (10, 21), (10, 20), (9, 20), (10, 19), (8, 20), (9, 19), (10, 18), (7, 20), (8, 19), (9, 18), (6, 20), (7, 19), (8, 18), (5, 20), (6, 19), (7, 18), (4, 20)]\n"
     ]
    }
   ],
   "execution_count": 90
  },
  {
   "metadata": {
    "ExecuteTime": {
     "end_time": "2024-05-11T04:47:38.707147Z",
     "start_time": "2024-05-11T04:47:38.704114Z"
    }
   },
   "cell_type": "code",
   "source": [
    "# # Import necessary functions from the helpers module\n",
    "# from Helpers import get_path, is_legal_pos, offsets\n",
    "# \n",
    "# # Code based on (Andrews, 2023)\n",
    "# \n",
    "# \n",
    "# def bfs(maze, start, goal):\n",
    "#     queue = Fifo()\n",
    "#     queue.enqueue(start)\n",
    "#     predecessors = {start: None}\n",
    "#     traversed = []  # List to keep track of all traversed cells\n",
    "# \n",
    "#     while not queue.is_empty():\n",
    "#         current_cell = queue.dequeue()\n",
    "#         traversed.append(current_cell)  # Record the traversed cell\n",
    "# \n",
    "#         if current_cell == goal:\n",
    "#             return get_path(predecessors, start, goal), traversed\n",
    "#         for direction in [\"up\", \"right\", \"down\", \"left\"]:\n",
    "#             row_offset, col_offset = offsets[direction]\n",
    "#             neighbour = (current_cell[0] + row_offset, current_cell[1] + col_offset)\n",
    "#             if is_legal_pos(maze, neighbour) and neighbour not in predecessors:\n",
    "#                 queue.enqueue(neighbour)\n",
    "#                 predecessors[neighbour] = current_cell\n",
    "#     return None, traversed  # Return None for path if no path found and the list of traversed cells\n"
   ],
   "id": "779f2f2886e84fd2",
   "outputs": [],
   "execution_count": 91
  },
  {
   "metadata": {
    "ExecuteTime": {
     "end_time": "2024-05-11T04:47:38.712254Z",
     "start_time": "2024-05-11T04:47:38.709617Z"
    }
   },
   "cell_type": "code",
   "source": [
    "# # Run the DFS with the loaded maze, startpoint and goal point\n",
    "# path, traversed = bfs(maze, start_point, goal_point)\n",
    "# print(\"trav\",traversed)\n",
    "# print(\"path\", path)\n"
   ],
   "id": "3f288b34c922b047",
   "outputs": [],
   "execution_count": 92
  },
  {
   "metadata": {},
   "cell_type": "markdown",
   "source": [
    "# Visualize the Path\n",
    "- Run the BFS algorithm and visualize the results using MatplotLip.\n",
    "- The function `update_maze_with_path()` plots the path on the maze as 4 "
   ],
   "id": "8fa29e5a4837ecef"
  },
  {
   "metadata": {
    "ExecuteTime": {
     "end_time": "2024-05-11T04:47:38.775013Z",
     "start_time": "2024-05-11T04:47:38.713888Z"
    }
   },
   "cell_type": "code",
   "source": "plot_maze(a3_maze, \"Problem Space\")",
   "id": "2badf851252de6af",
   "outputs": [
    {
     "data": {
      "text/plain": [
       "<Figure size 500x500 with 1 Axes>"
      ],
      "image/png": "[encoded data removed]"
     },
     "metadata": {},
     "output_type": "display_data"
    }
   ],
   "execution_count": 93
  },
  {
   "metadata": {
    "ExecuteTime": {
     "end_time": "2024-05-11T04:47:38.841898Z",
     "start_time": "2024-05-11T04:47:38.777387Z"
    }
   },
   "cell_type": "code",
   "source": [
    "bfs_updated = update_maze_with_path(a3_maze, bfs_solution_path, bfs_traversed, a3_maze_start, a3_maze_goal_point)\n",
    "\n",
    "print(bfs_updated)\n",
    "\n",
    "plot_maze(bfs_updated,\"new\")\n",
    "#plot = plot_path(a3_maze, a3_maze_start, a3_maze_goal_point, bfs_solution_path, bfs_traversed)\n"
   ],
   "id": "70b7df57bbfd4a2d",
   "outputs": [
    {
     "name": "stdout",
     "output_type": "stream",
     "text": [
      "[[1 1 1 1 1 1 1 1 1 1 1 1 1 1 1 1 1 1 1 1 1 1 1 1]\n",
      " [1 6 6 6 6 6 6 6 6 1 4 4 4 4 4 4 4 4 4 4 4 4 4 1]\n",
      " [1 6 2 6 6 6 6 6 6 1 4 6 6 6 6 6 6 1 1 1 1 1 4 1]\n",
      " [1 6 4 6 6 6 6 6 6 1 4 6 6 6 6 6 6 1 0 0 0 1 4 1]\n",
      " [1 6 4 6 6 6 6 6 6 1 4 6 6 1 1 1 1 1 0 0 9 1 4 1]\n",
      " [1 4 4 6 6 6 6 6 6 1 4 6 6 1 1 6 6 1 0 0 4 1 4 1]\n",
      " [1 4 1 1 1 1 1 1 1 1 4 6 6 1 6 6 6 1 0 6 4 1 4 1]\n",
      " [1 4 4 4 4 4 4 4 4 1 4 6 6 1 6 1 6 1 6 6 4 1 4 1]\n",
      " [1 6 6 6 6 6 6 6 4 1 4 6 6 1 1 1 6 1 6 6 4 1 4 1]\n",
      " [1 6 1 1 1 6 6 6 4 4 4 6 6 6 6 6 6 1 6 6 4 1 4 1]\n",
      " [1 6 6 6 1 6 1 1 1 1 6 6 6 6 6 6 6 1 6 6 4 4 4 1]\n",
      " [1 1 1 1 1 1 1 1 1 1 1 1 1 1 1 1 1 1 1 1 1 1 1 1]]\n"
     ]
    },
    {
     "data": {
      "text/plain": [
       "<Figure size 500x500 with 1 Axes>"
      ],
      "image/png": "[encoded data removed]"
     },
     "metadata": {},
     "output_type": "display_data"
    }
   ],
   "execution_count": 94
  },
  {
   "metadata": {},
   "cell_type": "markdown",
   "source": "Replot the maze with the traversed and solution",
   "id": "f40ef34689efa685"
  },
  {
   "metadata": {
    "ExecuteTime": {
     "end_time": "2024-05-11T04:47:38.846279Z",
     "start_time": "2024-05-11T04:47:38.843273Z"
    }
   },
   "cell_type": "code",
   "source": [
    "# def update_maze_with_path(maze, path, traversed):\n",
    "#     for position in traversed:\n",
    "#         if position != start_point and position != goal_point:\n",
    "#             maze[position[0], position[1]] = 6  # Mark traversed positions\n",
    "#     for position in path:\n",
    "#         if position != start_point and position != goal_point:\n",
    "#             maze[position[0], position[1]] = 4  # Ensure path is marked last\n",
    "#     return maze"
   ],
   "id": "e7b57e379bce15c3",
   "outputs": [],
   "execution_count": 95
  },
  {
   "metadata": {
    "ExecuteTime": {
     "end_time": "2024-05-11T04:47:38.851329Z",
     "start_time": "2024-05-11T04:47:38.848561Z"
    }
   },
   "cell_type": "code",
   "source": [
    "# def plot_path(maze, start, goal, path, traversed):\n",
    "#     if start and goal:\n",
    "#         if path:\n",
    "#             updated_maze = update_maze_with_path(maze.copy(), path, traversed)\n",
    "#             plot_maze(updated_maze, \"Breadth first search: Solution path\")\n",
    "#             print(\"Path:\", path)\n",
    "#         else:\n",
    "#             print(\"No path found.\")\n",
    "#     else:\n",
    "#         print(\"No start point found.\")"
   ],
   "id": "594883154d235983",
   "outputs": [],
   "execution_count": 96
  },
  {
   "metadata": {
    "ExecuteTime": {
     "end_time": "2024-05-11T04:47:38.863169Z",
     "start_time": "2024-05-11T04:47:38.860227Z"
    }
   },
   "cell_type": "code",
   "source": [
    "# updated = update_maze_with_path(maze, path, traversed)\n",
    "# plot_path(maze, start_point, goal_point, path, traversed)"
   ],
   "id": "ba965c148ad6eb4e",
   "outputs": [],
   "execution_count": 97
  },
  {
   "metadata": {
    "ExecuteTime": {
     "end_time": "2024-05-11T04:47:38.898688Z",
     "start_time": "2024-05-11T04:47:38.896258Z"
    }
   },
   "cell_type": "code",
   "source": "",
   "id": "8b5ea49ea07f40f7",
   "outputs": [],
   "execution_count": 97
  },
  {
   "metadata": {
    "ExecuteTime": {
     "end_time": "2024-05-11T04:47:38.991052Z",
     "start_time": "2024-05-11T04:47:38.988635Z"
    }
   },
   "cell_type": "code",
   "source": "",
   "id": "a00089e9f75e35d1",
   "outputs": [],
   "execution_count": 97
  }
 ],
 "metadata": {
  "kernelspec": {
   "display_name": "Python 3",
   "language": "python",
   "name": "python3"
  },
  "language_info": {
   "codemirror_mode": {
    "name": "ipython",
    "version": 2
   },
   "file_extension": ".py",
   "mimetype": "text/x-python",
   "name": "python",
   "nbconvert_exporter": "python",
   "pygments_lexer": "ipython2",
   "version": "2.7.6"
  }
 },
 "nbformat": 4,
 "nbformat_minor": 5
}
