{
 "cells": [
  {
   "cell_type": "markdown",
   "id": "1e5b418450f5cd49",
   "metadata": {},
   "source": [
    "# Depth First Search - *Uninformed Search*\n",
    "### Overview\n",
    "This notebook implements and analyzes the Depth First Search (DFS) algorithm applied to maze solving. The goal is to find a path from the start to the finish in a maze represented as a 2D array.\n",
    "### Depth First Search\n",
    "- Depth First Search (DFS) explores the deepest node in the current frontier using a Last In First Out (LIFO) stack, where the most recently discovered node is expanded first.\n",
    "- This implementation is a graph search version, which checks if a node has been previously expanded to prevent infinite loops.\n",
    "- Search strategies in DFS and other methods primarily differ in how they determine the order of node expansion.\n",
    "### Search Strategy\n",
    "- Initializes the frontier using the initial state of the problem. Explore set = None.\n",
    "- Take the last node in the queue of the stack and remove it from the frontier. \n",
    "- Check if the node is goal state. \n",
    "-   if it is, return solution path \n",
    "-   if not? continue\n",
    "- Add the node to explored set\n",
    "- Expand node and add resulting nodes to frontier\n",
    "- Loop until frontier is empty or goal is found. \n",
    "\n",
    "### Steps:\n",
    "1. **Convert the maze into a 2D Array**: Load maze data and convert it to integer format for processing.\n",
    "2. **Implementing DFS**: Use a custom stack class to manage the nodes during the search process.\n",
    "3. **Visualizing the Path**: Use matplotlib to illustrate the start, the path, and the goal within the maze.\n",
    "\n",
    "\n"
   ]
  },
  {
   "metadata": {},
   "cell_type": "markdown",
   "source": "# Implementing Depth First Search",
   "id": "70d777eaafa19ab8"
  },
  {
   "metadata": {
    "ExecuteTime": {
     "end_time": "2024-05-10T10:26:00.937578Z",
     "start_time": "2024-05-10T10:26:00.238418Z"
    }
   },
   "cell_type": "code",
   "source": [
    "# import the modules creates\n",
    "# These come from the source_code file\n",
    "import matplotlib.pyplot as plt\n",
    "import numpy as np\n",
    "from source_code.Helpers import string_to_int_array"
   ],
   "id": "d7e12ad7a3c87446",
   "outputs": [],
   "execution_count": 1
  },
  {
   "metadata": {},
   "cell_type": "markdown",
   "source": [
    "# Load and Prepare Maze Data\n",
    "1. Load the maze data and convert it to a usable format.\n",
    "2. Find the starting state (2)\n",
    "3. Find the end state (9) "
   ],
   "id": "99087c6ca1d70195"
  },
  {
   "metadata": {
    "ExecuteTime": {
     "end_time": "2024-05-10T10:26:00.947767Z",
     "start_time": "2024-05-10T10:26:00.941045Z"
    }
   },
   "cell_type": "code",
   "source": [
    "# take the string maze, load it to text with numpy\n",
    "# Convert string type to int\n",
    "maze_array_string = np.loadtxt('/Users/calebcougle/PycharmProjects/CAI104_COUGLE_A3/Mazes/a3maze.txt', dtype='str', delimiter=\",\")\n",
    "maze = string_to_int_array(maze_array_string)\n",
    "\n",
    "# The output is a 2D numpy array \n",
    "print(maze)"
   ],
   "id": "2f903e23c5a871e1",
   "outputs": [
    {
     "name": "stdout",
     "output_type": "stream",
     "text": [
      "[[1 1 1 1 1 1 1 1 1 1 1 1 1 1 1 1 1 1 1 1 1 1 1 1]\n",
      " [1 0 0 0 0 0 0 0 0 1 0 0 0 0 0 0 0 0 0 0 0 0 0 1]\n",
      " [1 0 2 0 0 0 0 0 0 1 0 0 0 0 0 0 0 1 1 1 1 1 0 1]\n",
      " [1 0 0 0 0 0 0 0 0 1 0 0 0 0 0 0 0 1 0 0 0 1 0 1]\n",
      " [1 0 0 0 0 0 0 0 0 1 0 0 0 1 1 1 1 1 0 0 9 1 0 1]\n",
      " [1 0 0 0 0 0 0 0 0 1 0 0 0 1 1 0 0 1 0 0 0 1 0 1]\n",
      " [1 0 1 1 1 1 1 1 1 1 0 0 0 1 0 0 0 1 0 0 0 1 0 1]\n",
      " [1 0 0 0 0 0 0 0 0 1 0 0 0 1 0 1 0 1 0 0 0 1 0 1]\n",
      " [1 0 0 0 0 0 0 0 0 1 0 0 0 1 1 1 0 1 0 0 0 1 0 1]\n",
      " [1 0 1 1 1 0 0 0 0 0 0 0 0 0 0 0 0 1 0 0 0 1 0 1]\n",
      " [1 0 0 0 1 0 1 1 1 1 0 0 0 0 0 0 0 1 0 0 0 0 0 1]\n",
      " [1 1 1 1 1 1 1 1 1 1 1 1 1 1 1 1 1 1 1 1 1 1 1 1]]\n"
     ]
    }
   ],
   "execution_count": 2
  },
  {
   "metadata": {
    "ExecuteTime": {
     "end_time": "2024-05-10T10:26:00.955785Z",
     "start_time": "2024-05-10T10:26:00.950399Z"
    }
   },
   "cell_type": "code",
   "source": [
    "def find_start(maze):\n",
    "    for i, row in enumerate(maze):\n",
    "        for j, value in enumerate(row):\n",
    "            if value == 2:  # Check for integer 2\n",
    "                return (i, j)\n",
    "    return None\n",
    "\n",
    "def find_goal(maze):\n",
    "    for i, row in enumerate(maze):\n",
    "        for j, value in enumerate(row):\n",
    "            if value == 9:  # Check for integer 2\n",
    "                return (i, j)\n",
    "    return None"
   ],
   "id": "d2931faefc2066ce",
   "outputs": [],
   "execution_count": 3
  },
  {
   "metadata": {
    "ExecuteTime": {
     "end_time": "2024-05-10T10:26:00.962376Z",
     "start_time": "2024-05-10T10:26:00.958154Z"
    }
   },
   "cell_type": "code",
   "source": [
    "goal_point = find_goal(maze)\n",
    "start_point = find_start(maze)\n",
    "print(\"Start point:\",start_point,\"\\nGoal:\",find_goal(maze))"
   ],
   "id": "dcd96552a731c902",
   "outputs": [
    {
     "name": "stdout",
     "output_type": "stream",
     "text": [
      "Start point: (2, 2) \n",
      "Goal: (4, 20)\n"
     ]
    }
   ],
   "execution_count": 4
  },
  {
   "metadata": {},
   "cell_type": "markdown",
   "source": [
    "# Stack Class Definition\n",
    "- A stack class is used to act as the LIFO queue. \n",
    "- Define a class that stores the frontier\n",
    "- The stack stores the frontier or 'discovered' nodes that are *yet to be explored*.\n",
    "- Methods within the class `stack` perform operations on the queue according to the DFS *search strategy* which is `Last in First Out` or `Stack` queue, which takes the newest node from the queue: \n",
    "-       Pop() \n",
    "-       Is_Empty()\n",
    "-       Push()\n",
    "(Russell & Norvig, 2016)"
   ],
   "id": "9c377b15cc33dd5c"
  },
  {
   "metadata": {
    "ExecuteTime": {
     "end_time": "2024-05-10T10:26:00.972342Z",
     "start_time": "2024-05-10T10:26:00.966460Z"
    }
   },
   "cell_type": "code",
   "source": [
    "# Code based on (Andrews, 2023). \n",
    "class Stack:\n",
    "\n",
    "    # constructor method\n",
    "    def __init__(self):\n",
    "        self.items = []\n",
    "\n",
    "    # check if stack is empty\n",
    "    def is_empty(self):\n",
    "        return not self.items #<-- so as not to return bool\n",
    "\n",
    "    # add items to the list\n",
    "    def push(self, item):\n",
    "        self.items.append(item)\n",
    "\n",
    "    # removes the last item and returns the value\n",
    "    def pop(self):\n",
    "        return self.items.pop()\n",
    "\n",
    "    # shows list item in list\n",
    "    def peek(self):\n",
    "        return self.items[-1]\n",
    "\n",
    "    # size of list\n",
    "    def size(self):\n",
    "        return len(self.items)\n",
    "\n",
    "    # turns obj into string\n",
    "    def __str__(self):\n",
    "        return str(self.items)"
   ],
   "id": "63a6bd2cc765d0aa",
   "outputs": [],
   "execution_count": 5
  },
  {
   "metadata": {},
   "cell_type": "markdown",
   "source": [
    "# Depth First Search (DFS) Implementation\n",
    "\n",
    "- **Function Definition**: The `dfs()` function implements the depth-first search algorithm, utilizing methods from the `Stack` class to manage nodes during the search.\n",
    "- **Initial State**: The starting node (`start`) is pushed onto the stack, as identified in previous functions.\n",
    "- **Predecessors Dictionary**: The `predecessors{}` dictionary functions similarly to an explored list; it records node traversal and returns the solution path when the goal is found.\n",
    "- **Current Node**: The `current_cell`, analogous to the current node, is the most recently added node on the stack, retrieved using the `Stack.pop()` method.\n",
    "- **Expanding Frontier**: The frontier expands as the nested `for` loop iterates over directions, pushing neighbors onto the stack. Neighbors are discovered by adding the directional offset to the current node's array index. *Example:* Turn Right = `current_column + 1`.\n",
    "- **Dead End Handling**: The `is_legal_pos()` function checks for dead ends, walls, and maze boundaries, ensuring movements are within the permissible range.\n",
    "- **Goal Check & Solution Path**: If the current node is the goal, the `get_path()` function is invoked to backtrack through the `predecessors` dictionary and construct the path from the start to the goal.\n"
   ],
   "id": "127f765b8ccb3056"
  },
  {
   "metadata": {
    "ExecuteTime": {
     "end_time": "2024-05-10T10:26:00.981975Z",
     "start_time": "2024-05-10T10:26:00.974369Z"
    }
   },
   "cell_type": "code",
   "source": [
    "# Import necessary functions from the helpers module\n",
    "from Helpers import get_path, is_legal_pos, offsets\n",
    "\n",
    "# Code based on (Andrews, 2023)\n",
    "def dfs(maze, start, goal):\n",
    "    # Initialize a stack and push the start position\n",
    "    stack = Stack()\n",
    "    stack.push(start)\n",
    "    # Track the path taken using a dictionary with start point having no predecessor\n",
    "    predecessors = {start: None}\n",
    "\n",
    "    # Loop until the stack is empty\n",
    "    \n",
    "    while not stack.is_empty():\n",
    "        # Pop the top cell from the stack\n",
    "        current_cell = stack.pop()\n",
    "        # If the current cell is the goal, return the path from start to goal\n",
    "        if current_cell == goal:\n",
    "            return get_path(predecessors, start, goal)\n",
    "        # Explore each possible direction\n",
    "        for direction in [\"up\", \"right\", \"down\", \"left\"]:\n",
    "            # Calculate the neighbour's position based on current direction\n",
    "            row_offset, col_offset = offsets[direction]\n",
    "            neighbour = (current_cell[0] + row_offset, current_cell[1] + col_offset)\n",
    "            # If the move is legal and the neighbour hasn't been visited\n",
    "            if is_legal_pos(maze, neighbour) and neighbour not in predecessors:\n",
    "                # Push the valid neighbour into the stack and mark its predecessor\n",
    "                stack.push(neighbour)\n",
    "                predecessors[neighbour] = current_cell\n",
    "    # If no path is found, return None\n",
    "    return None"
   ],
   "id": "78e43cd95ede5419",
   "outputs": [],
   "execution_count": 6
  },
  {
   "metadata": {
    "ExecuteTime": {
     "end_time": "2024-05-10T10:26:00.989091Z",
     "start_time": "2024-05-10T10:26:00.983795Z"
    }
   },
   "cell_type": "code",
   "source": [
    "# Run the DFS with the loaded maze, startpoint and goal point\n",
    "path = dfs(maze, start_point, goal_point)\n",
    "print(path)\n"
   ],
   "id": "a6e2a96d3110107d",
   "outputs": [
    {
     "name": "stdout",
     "output_type": "stream",
     "text": [
      "[(2, 2), (2, 1), (3, 1), (4, 1), (5, 1), (6, 1), (7, 1), (8, 1), (8, 2), (8, 3), (8, 4), (8, 5), (9, 5), (9, 6), (9, 7), (9, 8), (9, 9), (9, 10), (10, 10), (10, 11), (10, 12), (9, 12), (8, 12), (8, 11), (7, 11), (7, 10), (6, 10), (5, 10), (5, 11), (5, 12), (4, 12), (3, 12), (3, 11), (3, 10), (2, 10), (1, 10), (1, 11), (1, 12), (1, 13), (2, 13), (2, 14), (3, 14), (3, 15), (3, 16), (2, 16), (1, 16), (1, 17), (1, 18), (1, 19), (1, 20), (1, 21), (1, 22), (2, 22), (3, 22), (4, 22), (5, 22), (6, 22), (7, 22), (8, 22), (9, 22), (10, 22), (10, 21), (10, 20), (10, 19), (10, 18), (9, 18), (8, 18), (8, 19), (8, 20), (7, 20), (6, 20), (6, 19), (6, 18), (5, 18), (4, 18), (4, 19), (4, 20)]\n"
     ]
    }
   ],
   "execution_count": 7
  },
  {
   "metadata": {},
   "cell_type": "markdown",
   "source": [
    "# Visualize the Path\n",
    "- Run the DFS algorithm and visualize the results using MatplotLip.\n",
    "- The function `update_maze_with_path()` plots the path on the maze as 4 "
   ],
   "id": "35bf49aa1d031627"
  },
  {
   "metadata": {
    "ExecuteTime": {
     "end_time": "2024-05-10T10:26:00.996973Z",
     "start_time": "2024-05-10T10:26:00.991007Z"
    }
   },
   "cell_type": "code",
   "source": [
    "from matplotlib.colors import ListedColormap, Normalize\n",
    "\n",
    "def plot_maze(maze, title=\"Maze\"):\n",
    "    colors = ['#F5F5F5', '#32424A', '#801515', '#27566B', '#55AA55']  # Background, walls, start, end, path\n",
    "    cmap = ListedColormap(colors)\n",
    "    norm = Normalize(vmin=0, vmax=len(colors) - 1)\n",
    "    fig, ax = plt.subplots(figsize=(5, 5))\n",
    "    ax.imshow(maze, cmap=cmap, norm=norm)\n",
    "    ax.set_title(title)\n",
    "    ax.set_axis_off()\n",
    "    plt.show()\n"
   ],
   "id": "68f5fc0cca0f22a7",
   "outputs": [],
   "execution_count": 8
  },
  {
   "metadata": {
    "ExecuteTime": {
     "end_time": "2024-05-10T10:26:01.121163Z",
     "start_time": "2024-05-10T10:26:00.999282Z"
    }
   },
   "cell_type": "code",
   "source": "plot_maze(maze, \"Depth first search\")",
   "id": "c9358c22e62d2a8b",
   "outputs": [
    {
     "data": {
      "text/plain": [
       "<Figure size 500x500 with 1 Axes>"
      ],
      "image/png": "[encoded data removed]"
     },
     "metadata": {},
     "output_type": "display_data"
    }
   ],
   "execution_count": 9
  },
  {
   "metadata": {
    "ExecuteTime": {
     "end_time": "2024-05-10T10:26:01.127749Z",
     "start_time": "2024-05-10T10:26:01.123378Z"
    }
   },
   "cell_type": "code",
   "source": [
    "def update_maze_with_path(maze, path):\n",
    "    for position in path:\n",
    "        maze[position[0], position[1]] = 4  # Mark path positions with 4\n",
    "    return maze"
   ],
   "id": "39214b91419fe2ad",
   "outputs": [],
   "execution_count": 10
  },
  {
   "metadata": {
    "ExecuteTime": {
     "end_time": "2024-05-10T10:26:01.135399Z",
     "start_time": "2024-05-10T10:26:01.130299Z"
    }
   },
   "cell_type": "code",
   "source": [
    "def plot_path(maze, start, goal, path):\n",
    "    if start:\n",
    "        # path = dfs(maze, start, goal)  # Ensure 'maze' is used, which should be the integer array\n",
    "        if path:\n",
    "            updated_maze = update_maze_with_path(maze.copy(), path)\n",
    "            plot_maze(updated_maze, \"Depth first search: Solution path\")\n",
    "            print(\"Path:\", path)\n",
    "        else:\n",
    "            print(\"No path found.\")\n",
    "    else:\n",
    "        print(\"No start point found.\")"
   ],
   "id": "74e19e7485fd967f",
   "outputs": [],
   "execution_count": 11
  },
  {
   "metadata": {
    "ExecuteTime": {
     "end_time": "2024-05-10T10:26:01.224521Z",
     "start_time": "2024-05-10T10:26:01.137798Z"
    }
   },
   "cell_type": "code",
   "source": "plot_path(maze, start_point, goal_point, path)",
   "id": "d62ec29b0c24a208",
   "outputs": [
    {
     "data": {
      "text/plain": [
       "<Figure size 500x500 with 1 Axes>"
      ],
      "image/png": "[encoded data removed]"
     },
     "metadata": {},
     "output_type": "display_data"
    },
    {
     "name": "stdout",
     "output_type": "stream",
     "text": [
      "Path: [(2, 2), (2, 1), (3, 1), (4, 1), (5, 1), (6, 1), (7, 1), (8, 1), (8, 2), (8, 3), (8, 4), (8, 5), (9, 5), (9, 6), (9, 7), (9, 8), (9, 9), (9, 10), (10, 10), (10, 11), (10, 12), (9, 12), (8, 12), (8, 11), (7, 11), (7, 10), (6, 10), (5, 10), (5, 11), (5, 12), (4, 12), (3, 12), (3, 11), (3, 10), (2, 10), (1, 10), (1, 11), (1, 12), (1, 13), (2, 13), (2, 14), (3, 14), (3, 15), (3, 16), (2, 16), (1, 16), (1, 17), (1, 18), (1, 19), (1, 20), (1, 21), (1, 22), (2, 22), (3, 22), (4, 22), (5, 22), (6, 22), (7, 22), (8, 22), (9, 22), (10, 22), (10, 21), (10, 20), (10, 19), (10, 18), (9, 18), (8, 18), (8, 19), (8, 20), (7, 20), (6, 20), (6, 19), (6, 18), (5, 18), (4, 18), (4, 19), (4, 20)]\n"
     ]
    }
   ],
   "execution_count": 12
  }
 ],
 "metadata": {
  "kernelspec": {
   "display_name": "Python 3 (ipykernel)",
   "language": "python",
   "name": "python3"
  },
  "language_info": {
   "codemirror_mode": {
    "name": "ipython",
    "version": 3
   },
   "file_extension": ".py",
   "mimetype": "text/x-python",
   "name": "python",
   "nbconvert_exporter": "python",
   "pygments_lexer": "ipython3",
   "version": "3.9.18"
  },
  "varInspector": {
   "cols": {
    "lenName": 16,
    "lenType": 16,
    "lenVar": 40
   },
   "kernels_config": {
    "python": {
     "delete_cmd_postfix": "",
     "delete_cmd_prefix": "del ",
     "library": "var_list.py",
     "varRefreshCmd": "print(var_dic_list())"
    },
    "r": {
     "delete_cmd_postfix": ") ",
     "delete_cmd_prefix": "rm(",
     "library": "var_list.r",
     "varRefreshCmd": "cat(var_dic_list()) "
    }
   },
   "types_to_exclude": [
    "module",
    "function",
    "builtin_function_or_method",
    "instance",
    "_Feature"
   ],
   "window_display": false
  }
 },
 "nbformat": 4,
 "nbformat_minor": 5
}
