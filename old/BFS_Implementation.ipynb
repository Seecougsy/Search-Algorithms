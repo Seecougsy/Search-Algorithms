{
 "cells": [
  {
   "metadata": {},
   "cell_type": "markdown",
   "source": [
    "# Breadth First Search - *Uninformed Search*\n",
    "\n",
    "### Overview\n",
    "This notebook implements Breadth First Search (BFS) an uninformed search algorithm. The goal is to find a path from the start to the finish in a maze represented as a 2D array.\n",
    "### Breadth First Search\n",
    "- Breadth First Search (BFS) explores all nodes at each depth, before expanding nodes at a layer under.  This means unlike DFS, the node in the frontier are explored using a First In First Out (FIFO) queue, where the *oldest* discovered node is expanded first.\n",
    "- This implementation of BFS will include `path-cost` to return an optimal solution.\n",
    "### Search Strategy\n",
    "- Initializes the frontier using the initial state of the problem. Explore set = None.\n",
    "- Take the *first* node in the queue and removes it from the frontier. \n",
    "- Check if the node is goal state. \n",
    "- if the frontier is empty break. \n",
    "- if not? FIFO pop() (oldest) from frontier.\n",
    "- Add the node to explored set\n",
    "- For every neighbour of the current node\n",
    "- Loop until frontier is empty or goal is found. \n",
    "\n",
    "### Steps:\n",
    "1. **Convert the maze into a 2D Array**: Load maze data and convert it to integer format for processing.\n",
    "2. **Implementing BFS**: Use a stack class with FIFO queue to manage the nodes during the search process.\n",
    "3. **Visualizing the Path**: Use matplotlib to illustrate the start, the path, and the goal within the maze.\n",
    "\n",
    "\n"
   ],
   "id": "9ee46c8fe667091b"
  },
  {
   "metadata": {},
   "cell_type": "markdown",
   "source": "# Implementing Breadth First Search",
   "id": "a6c340eb6170c008"
  },
  {
   "metadata": {},
   "cell_type": "markdown",
   "source": [
    "# Load and Prepare Maze Data\n",
    "1. Load the maze data and convert it to a usable format.\n",
    "2. Find the starting state (2)\n",
    "3. Find the end state (9) "
   ],
   "id": "aa7ef113e77761ef"
  },
  {
   "metadata": {
    "ExecuteTime": {
     "end_time": "2024-05-11T05:38:44.145711Z",
     "start_time": "2024-05-11T05:38:44.142274Z"
    }
   },
   "cell_type": "code",
   "source": [
    "from Breadth_First_Search import *\n",
    "from Helpers import *\n",
    "from Visualisations import *\n"
   ],
   "id": "f8cd8d0b7711e49f",
   "execution_count": 15,
   "outputs": []
  },
  {
   "metadata": {
    "ExecuteTime": {
     "end_time": "2024-05-11T05:38:44.168839Z",
     "start_time": "2024-05-11T05:38:44.161878Z"
    }
   },
   "cell_type": "code",
   "source": [
    "# take the string maze, load it to text with numpy\n",
    "# Convert string type to int\n",
    "maze_array_string = np.loadtxt('/Users/calebcougle/PycharmProjects/CAI104_COUGLE_A3/Mazes/a3maze.txt', dtype='str',\n",
    "                               delimiter=\",\")\n",
    "bfs_a3_maze = string_to_int_array(maze_array_string)\n",
    "\n",
    "# The output is a 2D numpy array \n",
    "print(bfs_a3_maze)"
   ],
   "id": "ed2a2019f7a4acff",
   "execution_count": 16,
   "outputs": []
  },
  {
   "metadata": {
    "ExecuteTime": {
     "end_time": "2024-05-11T05:38:44.176091Z",
     "start_time": "2024-05-11T05:38:44.171734Z"
    }
   },
   "cell_type": "code",
   "source": [
    "bfs_a3_maze_start_point = find_start(bfs_a3_maze)\n",
    "bfs_a3_maze_goal_point = find_goal(bfs_a3_maze)\n",
    "\n",
    "print(\"Start\", bfs_a3_maze_start_point, \"Goal:\", bfs_a3_maze_goal_point)"
   ],
   "id": "7a952f3af361e543",
   "execution_count": 17,
   "outputs": []
  },
  {
   "metadata": {
    "ExecuteTime": {
     "end_time": "2024-05-11T05:38:44.260458Z",
     "start_time": "2024-05-11T05:38:44.177790Z"
    }
   },
   "cell_type": "code",
   "source": "plot_maze(bfs_a3_maze, \"Problem Space\")",
   "id": "97fb427f78a8fa29",
   "execution_count": 18,
   "outputs": []
  },
  {
   "metadata": {},
   "cell_type": "markdown",
   "source": [
    "# FIFO Queue Class Definition\n",
    "- The data queue class from DFS can be adapted for BFS; *however*, it functions as a LIFO with the `FIFO_Pop()` method.\n",
    "- The stack holds the frontier or 'discovered' nodes pending exploration.\n",
    "- The class methods labeled FIFO implement the BFS search strategy, `First in First Out`, returning the oldest node from the queue\n",
    "(Russell & Norvig, 2016)"
   ],
   "id": "c974068d0d3d40b0"
  },
  {
   "metadata": {},
   "cell_type": "markdown",
   "source": [
    "# Breadth First Search (BFS) Implementation\n",
    "\n",
    "- **Function Definition**: The `bfs()` function implements the breadth-first search algorithm, utilizing methods from the `fifo` class to manage nodes during the search.\n",
    "- **Initial State**: The starting node (`start`) is pushed onto the stack, as identified in previous functions.\n",
    "- **Predecessors Dictionary**: The `predecessors{}` dictionary functions similarly to an explored list; it records node traversal and returns the solution path when the goal is found.\n",
    "- **Current Node**: The `current_cell`, analogous to the current node, is the most recently added node on the stack, retrieved using the `fifo.pop(0)` method.\n",
    "- **Expanding Frontier**: The frontier expands as the nested `for` loop iterates over directions, pushing neighbors onto the stack. Neighbors are discovered by adding the directional offset to the current node's array index. *Example:* Turn Right = `current_column + 1`.\n",
    "- **Dead End Handling**: The `is_legal_pos()` function checks for dead ends, walls, and maze boundaries, ensuring movements are within the permissible range.\n",
    "- **Goal Check & Solution Path**: If the current node is the goal, the `get_path()` function is invoked to backtrack through the `predecessors` dictionary and construct the path from the start to the goal.\n"
   ],
   "id": "43a63f2edc01e034"
  },
  {
   "metadata": {
    "ExecuteTime": {
     "end_time": "2024-05-11T05:38:44.269519Z",
     "start_time": "2024-05-11T05:38:44.263952Z"
    }
   },
   "cell_type": "code",
   "source": [
    "bfs_solution_path, bfs_traversed = bfs(bfs_a3_maze, bfs_a3_maze_start_point, bfs_a3_maze_goal_point)\n",
    "print(\"Solution path:\", bfs_solution_path, \"\\nTraversed:\", bfs_traversed)"
   ],
   "id": "2eb9647165c01ff8",
   "execution_count": 19,
   "outputs": []
  },
  {
   "metadata": {},
   "cell_type": "markdown",
   "source": [
    "# Visualize the Path\n",
    "- Run the BFS algorithm and visualize the results using MatplotLip.\n",
    "- The function `update_maze_with_path()` plots the path on the maze as 4 "
   ],
   "id": "8fa29e5a4837ecef"
  },
  {
   "metadata": {
    "ExecuteTime": {
     "end_time": "2024-05-11T05:38:44.351426Z",
     "start_time": "2024-05-11T05:38:44.271381Z"
    }
   },
   "cell_type": "code",
   "source": "plot_maze(bfs_a3_maze, \"Problem Space\")",
   "id": "2badf851252de6af",
   "execution_count": 20,
   "outputs": []
  },
  {
   "metadata": {
    "ExecuteTime": {
     "end_time": "2024-05-11T05:38:44.486637Z",
     "start_time": "2024-05-11T05:38:44.353177Z"
    }
   },
   "cell_type": "code",
   "source": [
    "bfs_updated = update_maze_with_path(bfs_a3_maze, bfs_solution_path, bfs_traversed, bfs_a3_maze_start_point,\n",
    "                                    bfs_a3_maze_goal_point)\n",
    "\n",
    "print(bfs_updated)\n",
    "plot_maze(bfs_updated, \"Traversed VS Solution Path\")"
   ],
   "id": "70b7df57bbfd4a2d",
   "execution_count": 21,
   "outputs": []
  }
 ],
 "metadata": {
  "kernelspec": {
   "display_name": "Python 3",
   "language": "python",
   "name": "python3"
  },
  "language_info": {
   "codemirror_mode": {
    "name": "ipython",
    "version": 2
   },
   "file_extension": ".py",
   "mimetype": "text/x-python",
   "name": "python",
   "nbconvert_exporter": "python",
   "pygments_lexer": "ipython2",
   "version": "2.7.6"
  }
 },
 "nbformat": 4,
 "nbformat_minor": 5
}
