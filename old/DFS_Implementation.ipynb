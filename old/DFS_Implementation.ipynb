{
 "cells": [
  {
   "cell_type": "markdown",
   "id": "1e5b418450f5cd49",
   "metadata": {},
   "source": [
    "# Depth First Search - *Uninformed Search*\n",
    "### Overview\n",
    "This notebook implements and analyzes the Depth First Search (DFS) algorithm applied to maze solving. The goal is to find a path from the start to the finish in a maze represented as a 2D array. The algorithm code in this Notebook is written in python has been modified from LinkedIn learning Tutorial, Andrews (2023).\n",
    "### Depth First Search\n",
    "Depth First Search (DFS) explores the deepest node in the current frontier using a Last In First Out (LIFO) stack, where the most recently discovered node is expanded first. The implementation is modified for the graph search, which checks if a node has been previously expanded to prevent infinite loops. Search strategies in DFS and other methods primarily differ in how they determine the order of node expansion.\n",
    "### Search Strategy\n",
    "- Initializes the frontier using the initial state of the problem. Explore set = None.\n",
    "- Take the last node in the queue of the stack and remove it from the frontier. \n",
    "- Check if the node is goal state. \n",
    "-   if it is, return solution path \n",
    "-   if not? continue\n",
    "- Add the node to explored set\n",
    "- Expand node and add resulting nodes to frontier\n",
    "- Loop until frontier is empty or goal is found. \n",
    "### Steps:\n",
    "1. **Convert the maze into a 2D Array**: Load maze data and convert it to integer format for processing.\n",
    "2. **Implementing DFS**: Use a custom stack class to manage the nodes during the search process.\n",
    "3. **Visualizing the Path**: Use matplotlib to illustrate the start, the path, and the goal within the maze.\n",
    "# Implementing Depth First Search\n",
    "The packages used in the DFS algorithm."
   ]
  },
  {
   "metadata": {},
   "cell_type": "markdown",
   "source": "",
   "id": "9b8f814c5ce9b9fd"
  },
  {
   "metadata": {},
   "cell_type": "markdown",
   "source": "The packages used in the DFS algorithm ",
   "id": "43bf28d281e3b3fc"
  },
  {
   "metadata": {
    "ExecuteTime": {
     "end_time": "2024-05-11T05:40:55.508592Z",
     "start_time": "2024-05-11T05:40:53.328030Z"
    }
   },
   "cell_type": "code",
   "source": [
    "import numpy as np\n",
    "from Visualisations import *\n",
    "from source_code.Helpers import string_to_int_array\n",
    "from Depth_First_Search import dfs\n",
    "from Helpers import find_goal, find_start\n",
    "from Helpers import update_maze_with_path"
   ],
   "id": "d7e12ad7a3c87446",
   "outputs": [],
   "execution_count": 1
  },
  {
   "metadata": {},
   "cell_type": "markdown",
   "source": [
    "# Load and Prepare Maze Data\n",
    "1. Load the maze data and convert it to a usable format.\n",
    "2. Find the starting state (2)\n",
    "3. Find the end state (9) "
   ],
   "id": "99087c6ca1d70195"
  },
  {
   "metadata": {
    "ExecuteTime": {
     "end_time": "2024-05-11T05:40:55.519204Z",
     "start_time": "2024-05-11T05:40:55.511643Z"
    }
   },
   "cell_type": "code",
   "source": [
    "# take the string maze, load it to text with numpy\n",
    "# Convert string type to int\n",
    "dfs_maze_array_string = np.loadtxt('/Users/calebcougle/PycharmProjects/CAI104_COUGLE_A3/Mazes/a3maze.txt', dtype='str',\n",
    "                                   delimiter=\",\")\n",
    "dfs_a3_maze = string_to_int_array(dfs_maze_array_string)\n",
    "# The output is a 2D numpy array \n",
    "print(dfs_a3_maze)"
   ],
   "id": "2f903e23c5a871e1",
   "outputs": [
    {
     "name": "stdout",
     "output_type": "stream",
     "text": [
      "[[1 1 1 1 1 1 1 1 1 1 1 1 1 1 1 1 1 1 1 1 1 1 1 1]\n",
      " [1 0 0 0 0 0 0 0 0 1 0 0 0 0 0 0 0 0 0 0 0 0 0 1]\n",
      " [1 0 2 0 0 0 0 0 0 1 0 0 0 0 0 0 0 1 1 1 1 1 0 1]\n",
      " [1 0 0 0 0 0 0 0 0 1 0 0 0 0 0 0 0 1 0 0 0 1 0 1]\n",
      " [1 0 0 0 0 0 0 0 0 1 0 0 0 1 1 1 1 1 0 0 9 1 0 1]\n",
      " [1 0 0 0 0 0 0 0 0 1 0 0 0 1 1 0 0 1 0 0 0 1 0 1]\n",
      " [1 0 1 1 1 1 1 1 1 1 0 0 0 1 0 0 0 1 0 0 0 1 0 1]\n",
      " [1 0 0 0 0 0 0 0 0 1 0 0 0 1 0 1 0 1 0 0 0 1 0 1]\n",
      " [1 0 0 0 0 0 0 0 0 1 0 0 0 1 1 1 0 1 0 0 0 1 0 1]\n",
      " [1 0 1 1 1 0 0 0 0 0 0 0 0 0 0 0 0 1 0 0 0 1 0 1]\n",
      " [1 0 0 0 1 0 1 1 1 1 0 0 0 0 0 0 0 1 0 0 0 0 0 1]\n",
      " [1 1 1 1 1 1 1 1 1 1 1 1 1 1 1 1 1 1 1 1 1 1 1 1]]\n"
     ]
    }
   ],
   "execution_count": 2
  },
  {
   "metadata": {
    "ExecuteTime": {
     "end_time": "2024-05-11T05:40:55.526051Z",
     "start_time": "2024-05-11T05:40:55.520889Z"
    }
   },
   "cell_type": "code",
   "source": [
    "dfs_a3_goal_point = find_goal(dfs_a3_maze)\n",
    "dfs_a3_start_point = find_start(dfs_a3_maze)\n",
    "print(\"Start point:\", dfs_a3_start_point, \"\\nGoal:\", dfs_a3_goal_point)"
   ],
   "id": "dcd96552a731c902",
   "outputs": [
    {
     "name": "stdout",
     "output_type": "stream",
     "text": [
      "Start point: (2, 2) \n",
      "Goal: (4, 20)\n"
     ]
    }
   ],
   "execution_count": 3
  },
  {
   "metadata": {},
   "cell_type": "markdown",
   "source": [
    "# Stack Class Definition\n",
    "- A stack class is used to act as the LIFO queue. \n",
    "- Define a class that stores the frontier\n",
    "- The stack stores the frontier or 'discovered' nodes that are *yet to be explored*.\n",
    "- Methods within the class `stack` perform operations on the queue according to the DFS *search strategy* which is `Last in First Out` or `Stack` queue, which takes the newest node from the queue: \n",
    "-       Pop() \n",
    "-       Is_Empty()\n",
    "-       Push()\n",
    "(Russell & Norvig, 2016)"
   ],
   "id": "9c377b15cc33dd5c"
  },
  {
   "metadata": {
    "ExecuteTime": {
     "end_time": "2024-05-11T05:40:55.652154Z",
     "start_time": "2024-05-11T05:40:55.528086Z"
    }
   },
   "cell_type": "code",
   "source": [
    "dfs_a3_maze_image = plot_maze(dfs_a3_maze, \"DFS Problem Space\")\n",
    "dfs_a3_maze_image"
   ],
   "id": "d2931faefc2066ce",
   "outputs": [
    {
     "data": {
      "text/plain": [
       "<Figure size 500x500 with 1 Axes>"
      ],
      "image/png": "[encoded data removed]"
     },
     "metadata": {},
     "output_type": "display_data"
    }
   ],
   "execution_count": 4
  },
  {
   "metadata": {},
   "cell_type": "markdown",
   "source": [
    "# Depth First Search (DFS) Implementation\n",
    "\n",
    "- **Function Definition**: The `dfs()` function implements the depth-first search algorithm, utilizing methods from the `Stack` class to manage nodes during the search.\n",
    "- **Initial State**: The starting node (`start`) is pushed onto the stack, as identified in previous functions.\n",
    "- **Predecessors Dictionary**: The `predecessors{}` dictionary functions similarly to an explored list; it records node traversal and returns the solution path when the goal is found.\n",
    "- **Current Node**: The `current_cell`, analogous to the current node, is the most recently added node on the stack, retrieved using the `Stack.pop()` method.\n",
    "- **Expanding Frontier**: The frontier expands as the nested `for` loop iterates over directions, pushing neighbors onto the stack. Neighbors are discovered by adding the directional offset to the current node's array index. *Example:* Turn Right = `current_column + 1`.\n",
    "- **Dead End Handling**: The `is_legal_pos()` function checks for dead ends, walls, and maze boundaries, ensuring movements are within the permissible range.\n",
    "- **Goal Check & Solution Path**: If the current node is the goal, the `get_path()` function is invoked to backtrack through the `predecessors` dictionary and construct the path from the start to the goal.\n"
   ],
   "id": "127f765b8ccb3056"
  },
  {
   "metadata": {
    "ExecuteTime": {
     "end_time": "2024-05-11T05:40:55.662160Z",
     "start_time": "2024-05-11T05:40:55.656628Z"
    }
   },
   "cell_type": "code",
   "source": [
    "dfs_solution_path, dfs_traversed = dfs(dfs_a3_maze, dfs_a3_start_point, dfs_a3_goal_point)\n",
    "print(\"Solution path:\", dfs_solution_path, \"\\nTraversed:\", dfs_traversed)"
   ],
   "id": "423ff88e5ad2f1ba",
   "outputs": [
    {
     "name": "stdout",
     "output_type": "stream",
     "text": [
      "Solution path: [(2, 2), (2, 1), (3, 1), (4, 1), (5, 1), (6, 1), (7, 1), (8, 1), (8, 2), (8, 3), (8, 4), (8, 5), (9, 5), (9, 6), (9, 7), (9, 8), (9, 9), (9, 10), (10, 10), (10, 11), (10, 12), (9, 12), (8, 12), (8, 11), (7, 11), (7, 10), (6, 10), (5, 10), (5, 11), (5, 12), (4, 12), (3, 12), (3, 11), (3, 10), (2, 10), (1, 10), (1, 11), (1, 12), (1, 13), (2, 13), (2, 14), (3, 14), (3, 15), (3, 16), (2, 16), (1, 16), (1, 17), (1, 18), (1, 19), (1, 20), (1, 21), (1, 22), (2, 22), (3, 22), (4, 22), (5, 22), (6, 22), (7, 22), (8, 22), (9, 22), (10, 22), (10, 21), (10, 20), (10, 19), (10, 18), (9, 18), (8, 18), (8, 19), (8, 20), (7, 20), (6, 20), (6, 19), (6, 18), (5, 18), (4, 18), (4, 19), (4, 20)] \n",
      "Traversed: [(2, 2), (2, 1), (3, 1), (4, 1), (5, 1), (6, 1), (7, 1), (8, 1), (9, 1), (10, 1), (10, 2), (10, 3), (8, 2), (8, 3), (8, 4), (8, 5), (9, 5), (10, 5), (9, 6), (9, 7), (9, 8), (9, 9), (9, 10), (10, 10), (10, 11), (10, 12), (10, 13), (10, 14), (10, 15), (10, 16), (9, 16), (8, 16), (7, 16), (6, 16), (6, 15), (6, 14), (7, 14), (5, 15), (5, 16), (9, 15), (9, 14), (9, 13), (9, 12), (8, 12), (8, 11), (7, 11), (7, 10), (6, 10), (5, 10), (5, 11), (5, 12), (6, 12), (4, 12), (3, 12), (3, 11), (3, 10), (2, 10), (1, 10), (1, 11), (1, 12), (1, 13), (2, 13), (2, 14), (3, 14), (3, 15), (3, 16), (2, 16), (1, 16), (1, 15), (1, 17), (1, 18), (1, 19), (1, 20), (1, 21), (1, 22), (2, 22), (3, 22), (4, 22), (5, 22), (6, 22), (7, 22), (8, 22), (9, 22), (10, 22), (10, 21), (10, 20), (10, 19), (10, 18), (9, 18), (8, 18), (8, 19), (8, 20), (7, 20), (6, 20), (6, 19), (6, 18), (5, 18), (4, 18), (4, 19), (4, 20)]\n"
     ]
    }
   ],
   "execution_count": 5
  },
  {
   "metadata": {},
   "cell_type": "markdown",
   "source": [
    "# Visualize the Path\n",
    "- Run the DFS algorithm and visualize the results using MatplotLip.\n",
    "- The function `update_maze_with_path()` plots the path on the maze as 4 "
   ],
   "id": "35bf49aa1d031627"
  },
  {
   "metadata": {
    "ExecuteTime": {
     "end_time": "2024-05-11T05:40:55.748267Z",
     "start_time": "2024-05-11T05:40:55.663891Z"
    }
   },
   "cell_type": "code",
   "source": "plot_maze(dfs_a3_maze, \"Depth first search\")",
   "id": "c9358c22e62d2a8b",
   "outputs": [
    {
     "data": {
      "text/plain": [
       "<Figure size 500x500 with 1 Axes>"
      ],
      "image/png": "[encoded data removed]"
     },
     "metadata": {},
     "output_type": "display_data"
    }
   ],
   "execution_count": 6
  },
  {
   "metadata": {
    "ExecuteTime": {
     "end_time": "2024-05-11T05:40:55.755999Z",
     "start_time": "2024-05-11T05:40:55.750125Z"
    }
   },
   "cell_type": "code",
   "source": [
    "dfs_updated = update_maze_with_path(dfs_a3_maze, dfs_solution_path, dfs_traversed, dfs_a3_start_point,\n",
    "                                    dfs_a3_goal_point)\n",
    "print(dfs_updated)"
   ],
   "id": "a4873046209f54b1",
   "outputs": [
    {
     "name": "stdout",
     "output_type": "stream",
     "text": [
      "[[1 1 1 1 1 1 1 1 1 1 1 1 1 1 1 1 1 1 1 1 1 1 1 1]\n",
      " [1 0 0 0 0 0 0 0 0 1 4 4 4 4 0 6 4 4 4 4 4 4 4 1]\n",
      " [1 4 2 0 0 0 0 0 0 1 4 0 0 4 4 0 4 1 1 1 1 1 4 1]\n",
      " [1 4 0 0 0 0 0 0 0 1 4 4 4 0 4 4 4 1 0 0 0 1 4 1]\n",
      " [1 4 0 0 0 0 0 0 0 1 0 0 4 1 1 1 1 1 4 4 9 1 4 1]\n",
      " [1 4 0 0 0 0 0 0 0 1 4 4 4 1 1 6 6 1 4 0 0 1 4 1]\n",
      " [1 4 1 1 1 1 1 1 1 1 4 0 6 1 6 6 6 1 4 4 4 1 4 1]\n",
      " [1 4 0 0 0 0 0 0 0 1 4 4 0 1 6 1 6 1 0 0 4 1 4 1]\n",
      " [1 4 4 4 4 4 0 0 0 1 0 4 4 1 1 1 6 1 4 4 4 1 4 1]\n",
      " [1 6 1 1 1 4 4 4 4 4 4 0 4 6 6 6 6 1 4 0 0 1 4 1]\n",
      " [1 6 6 6 1 6 1 1 1 1 4 4 4 6 6 6 6 1 4 4 4 4 4 1]\n",
      " [1 1 1 1 1 1 1 1 1 1 1 1 1 1 1 1 1 1 1 1 1 1 1 1]]\n"
     ]
    }
   ],
   "execution_count": 7
  },
  {
   "metadata": {
    "ExecuteTime": {
     "end_time": "2024-05-11T05:40:55.841455Z",
     "start_time": "2024-05-11T05:40:55.758033Z"
    }
   },
   "cell_type": "code",
   "source": [
    "plot_maze(dfs_updated, \"Traversed VS Solution Path\")\n",
    "#plot = plot_path(a3_maze, a3_maze_start, a3_maze_goal_point, bfs_solution_path, bfs_traversed)"
   ],
   "id": "d62ec29b0c24a208",
   "outputs": [
    {
     "data": {
      "text/plain": [
       "<Figure size 500x500 with 1 Axes>"
      ],
      "image/png": "[encoded data removed]"
     },
     "metadata": {},
     "output_type": "display_data"
    }
   ],
   "execution_count": 8
  }
 ],
 "metadata": {
  "kernelspec": {
   "display_name": "Python 3 (ipykernel)",
   "language": "python",
   "name": "python3"
  },
  "language_info": {
   "codemirror_mode": {
    "name": "ipython",
    "version": 3
   },
   "file_extension": ".py",
   "mimetype": "text/x-python",
   "name": "python",
   "nbconvert_exporter": "python",
   "pygments_lexer": "ipython3",
   "version": "3.9.18"
  },
  "varInspector": {
   "cols": {
    "lenName": 16,
    "lenType": 16,
    "lenVar": 40
   },
   "kernels_config": {
    "python": {
     "delete_cmd_postfix": "",
     "delete_cmd_prefix": "del ",
     "library": "var_list.py",
     "varRefreshCmd": "print(var_dic_list())"
    },
    "r": {
     "delete_cmd_postfix": ") ",
     "delete_cmd_prefix": "rm(",
     "library": "var_list.r",
     "varRefreshCmd": "cat(var_dic_list()) "
    }
   },
   "types_to_exclude": [
    "module",
    "function",
    "builtin_function_or_method",
    "instance",
    "_Feature"
   ],
   "window_display": false
  }
 },
 "nbformat": 4,
 "nbformat_minor": 5
}
