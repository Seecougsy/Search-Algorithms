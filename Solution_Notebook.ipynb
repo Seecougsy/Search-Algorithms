{
 "cells": [
  {
   "cell_type": "code",
   "id": "f8cd8d0b7711e49f",
   "metadata": {
    "ExecuteTime": {
     "end_time": "2024-08-28T14:20:34.038783Z",
     "start_time": "2024-08-28T14:20:16.242357Z"
    }
   },
   "source": [
    "import numpy as np\n",
    "\n",
    "from Breadth_First_Search import *\n",
    "from Helpers import *\n",
    "from Visualisations import *\n",
    "import numpy as np\n",
    "from Visualisations import *\n",
    "from source_code.Helpers import string_to_int_array\n",
    "from Depth_First_Search import dfs\n",
    "from Helpers import find_goal, find_start\n",
    "from Helpers import update_maze_with_path\n"
   ],
   "outputs": [],
   "execution_count": 1
  },
  {
   "cell_type": "markdown",
   "id": "030a8f77",
   "metadata": {},
   "source": [
    "# Maze Search Problem\n",
    "### Introduction\n",
    "This notebook synthesizes the implementations of two uninformed algorithms, Breadth-First Search (BFS) and Depth-First Search (DFS). Each section is dedicated to one of the algorithms, detailing their approaches, code, and specific use cases.\n",
    "ike topological sorting and checking for connectivity in a graph.The algorithm code in this Notebook is written in Python and contains some functions that have been modified from LinkedIn learning Tutorial, Andrews (2023).\n",
    "#### Problem State\n",
    "The maze is a deterministic, fully observable problem state.\n",
    "- `Initial State: Red`\n",
    "- `Goal State: Blue`"
   ]
  },
  {
   "cell_type": "code",
   "id": "b7bccdb90ca83a37",
   "metadata": {
    "ExecuteTime": {
     "end_time": "2024-08-28T14:20:34.423867Z",
     "start_time": "2024-08-28T14:20:34.041216Z"
    }
   },
   "source": [
    "# take the string maze, load it to text with numpy\n",
    "# Convert string type to int\n",
    "problem_string = np.loadtxt('/Users/calebcougle/PycharmProjects/CAI104_COUGLE_A3/Mazes/a3maze.txt', dtype='str',\n",
    "                            delimiter=\",\")\n",
    "\n",
    "#Convert to int tuple\n",
    "problem_a3_maze = string_to_int_array(problem_string)\n",
    "plot_maze(problem_a3_maze, \"State Space\")"
   ],
   "outputs": [
    {
     "data": {
      "text/plain": [
       "<Figure size 500x500 with 1 Axes>"
      ],
      "image/png": "[encoded data removed]"
     },
     "metadata": {},
     "output_type": "display_data"
    }
   ],
   "execution_count": 2
  },
  {
   "cell_type": "markdown",
   "id": "66363090c3287e74",
   "metadata": {},
   "source": [
    "### The State Space\n",
    "The state space is calculated in the equation below. \n",
    "`Possible Positions * Possible Actions (offsets)`"
   ]
  },
  {
   "cell_type": "code",
   "id": "834c85ce18ad557a",
   "metadata": {
    "ExecuteTime": {
     "end_time": "2024-08-28T14:20:34.429497Z",
     "start_time": "2024-08-28T14:20:34.425126Z"
    }
   },
   "source": [
    "# The state space or \"difficulty\" of the problem.\n",
    "state_space = problem_a3_maze[problem_a3_maze != 1]\n",
    "print(\"The State Space:\", state_space.size, \"*\", len(offsets), \"=\", (state_space.size * len(offsets)))"
   ],
   "outputs": [
    {
     "name": "stdout",
     "output_type": "stream",
     "text": [
      "The State Space: 165 * 4 = 660\n"
     ]
    }
   ],
   "execution_count": 3
  },
  {
   "cell_type": "markdown",
   "id": "b432ae2728b7e7ad",
   "metadata": {},
   "source": [
    "### Challenges\n",
    "#### Algorithm Implementation.\n",
    "Completing this project presented challenges in maintaining full visibility of the search strategy. Despite my experience with several Python projects, there were still some bugs and problems encountered that could be attributed to my limited experience. Significant effort and knowledge on the algorithm and Python packages were required to be investigated to verify that the algorithm accurately produced the expected solution path for the algorithms as a result of the algorithm exhibiting the correct search behavior, and not just a chance result. Printing debug statements within the code was the most useful approach.  There were also a number of issues and bugs that I encountered that were related to incorrect implementation of `variable scope` and was returning unexpected outputs. You will be able to see, with the remaining time, I was not able to fix the goal state colour and the traversal colour. \n",
    "\n",
    "#### Expressing Technical Concepts.\n",
    "Selecting how to present this project was a key challenge. It was important to present important details and knowledge, without being overly complex or long. Visualisations were also an important factor in this project. This involved selecting the appropriate Python packages for visualizing the algorithms while also considering the feasibility of being able to execute the desired result given the timeline. There were some changes in the time available to complete this project, I have worked with Matplotlib a number of times, ultimately this is what drove the decision.\n",
    "\n",
    "#### Areas of uncertainty\n"
   ]
  },
  {
   "cell_type": "markdown",
   "id": "9ee46c8fe667091b",
   "metadata": {},
   "source": [
    "# The Algorithms\n",
    "## Breadth First Search - *Uninformed Search*\n",
    "- Breadth First Search (BFS) explores all nodes at each depth, before expanding nodes at a layer under.  This means unlike DFS, the node in the frontier are explored using a First In First Out (FIFO) queue, where the *oldest* discovered node is expanded first.\n",
    "#### Search Strategy\n",
    "- Initializes the frontier using the initial state of the problem. Explore set = None.\n",
    "- Take the *first* node in the queue and removes it from the frontier. \n",
    "- Check if the node is goal state. \n",
    "- if the frontier is empty break. \n",
    "- if not? FIFO pop() (oldest) from frontier.\n",
    "- Add the node to explored set\n",
    "- For every neighbour of the current node\n",
    "- Loop until frontier is empty or goal is found. \n",
    "#### Steps:\n",
    "1. **Convert the maze into a 2D Array**: Load maze data and convert it to integer format for processing.\n",
    "2. **Implementing BFS**: Use a stack class with FIFO queue to manage the nodes during the search process.\n",
    "3. **Visualizing the Path**: Use matplotlib to illustrate the start, the path, and the goal within the maze.\n",
    "\n",
    "\n"
   ]
  },
  {
   "cell_type": "markdown",
   "id": "aa7ef113e77761ef",
   "metadata": {},
   "source": [
    "#### Load and Prepare Maze Data\n",
    "1. Load the maze data and convert it to a usable format.\n",
    "2. Find the starting state (2)\n",
    "3. Find the end state (9) \n",
    "4. Call the DFS function on the converted maze\n",
    "5. Plot the Path"
   ]
  },
  {
   "cell_type": "code",
   "id": "2bd42d7d6d39c21",
   "metadata": {
    "ExecuteTime": {
     "end_time": "2024-08-28T14:20:34.437097Z",
     "start_time": "2024-08-28T14:20:34.431278Z"
    }
   },
   "source": [
    "# take the string maze, load it to text with numpy\n",
    "# Convert string type to int\n",
    "maze_array_string = np.loadtxt('/Users/calebcougle/PycharmProjects/CAI104_COUGLE_A3/Mazes/a3maze.txt', dtype='str',\n",
    "                               delimiter=\",\")\n",
    "bfs_a3_maze = string_to_int_array(maze_array_string)\n",
    "# The output is a numpy tuple.\n",
    "print(bfs_a3_maze)\n"
   ],
   "outputs": [
    {
     "name": "stdout",
     "output_type": "stream",
     "text": [
      "[[1 1 1 1 1 1 1 1 1 1 1 1 1 1 1 1 1 1 1 1 1 1 1 1]\n",
      " [1 0 0 0 0 0 0 0 0 1 0 0 0 0 0 0 0 0 0 0 0 0 0 1]\n",
      " [1 0 2 0 0 0 0 0 0 1 0 0 0 0 0 0 0 1 1 1 1 1 0 1]\n",
      " [1 0 0 0 0 0 0 0 0 1 0 0 0 0 0 0 0 1 0 0 0 1 0 1]\n",
      " [1 0 0 0 0 0 0 0 0 1 0 0 0 1 1 1 1 1 0 0 9 1 0 1]\n",
      " [1 0 0 0 0 0 0 0 0 1 0 0 0 1 1 0 0 1 0 0 0 1 0 1]\n",
      " [1 0 1 1 1 1 1 1 1 1 0 0 0 1 0 0 0 1 0 0 0 1 0 1]\n",
      " [1 0 0 0 0 0 0 0 0 1 0 0 0 1 0 1 0 1 0 0 0 1 0 1]\n",
      " [1 0 0 0 0 0 0 0 0 1 0 0 0 1 1 1 0 1 0 0 0 1 0 1]\n",
      " [1 0 1 1 1 0 0 0 0 0 0 0 0 0 0 0 0 1 0 0 0 1 0 1]\n",
      " [1 0 0 0 1 0 1 1 1 1 0 0 0 0 0 0 0 1 0 0 0 0 0 1]\n",
      " [1 1 1 1 1 1 1 1 1 1 1 1 1 1 1 1 1 1 1 1 1 1 1 1]]\n"
     ]
    }
   ],
   "execution_count": 4
  },
  {
   "cell_type": "code",
   "id": "7a952f3af361e543",
   "metadata": {
    "ExecuteTime": {
     "end_time": "2024-08-28T14:20:34.444822Z",
     "start_time": "2024-08-28T14:20:34.440983Z"
    }
   },
   "source": [
    "bfs_a3_maze_start_point = find_start(bfs_a3_maze)\n",
    "bfs_a3_maze_goal_point = find_goal(bfs_a3_maze)\n",
    "\n",
    "print(\"Start\", bfs_a3_maze_start_point, \"Goal:\", bfs_a3_maze_goal_point)"
   ],
   "outputs": [
    {
     "name": "stdout",
     "output_type": "stream",
     "text": [
      "Start (2, 2) Goal: (4, 20)\n"
     ]
    }
   ],
   "execution_count": 5
  },
  {
   "cell_type": "code",
   "id": "97fb427f78a8fa29",
   "metadata": {
    "ExecuteTime": {
     "end_time": "2024-08-28T14:20:34.517179Z",
     "start_time": "2024-08-28T14:20:34.446392Z"
    }
   },
   "source": [
    "plot_maze(bfs_a3_maze, \"Problem Space\")"
   ],
   "outputs": [
    {
     "data": {
      "text/plain": [
       "<Figure size 500x500 with 1 Axes>"
      ],
      "image/png": "[encoded data removed]"
     },
     "metadata": {},
     "output_type": "display_data"
    }
   ],
   "execution_count": 6
  },
  {
   "cell_type": "markdown",
   "id": "c974068d0d3d40b0",
   "metadata": {},
   "source": [
    "#### FIFO Queue Class Definition\n",
    "- The data queue class from DFS can be adapted for BFS; *however*, it functions as a LIFO with the `FIFO_Pop()` method.\n",
    "- The stack holds the frontier or 'discovered' nodes pending exploration.\n",
    "- The class methods labeled FIFO implement the BFS search strategy, `First in First Out`, returning the oldest node from the queue\n",
    "(Russell & Norvig, 2016)"
   ]
  },
  {
   "cell_type": "markdown",
   "id": "43a63f2edc01e034",
   "metadata": {},
   "source": [
    "#### Search Strategy Implementation\n",
    "\n",
    "- **Function Definition**: The `bfs()` function implements the breadth-first search algorithm, utilizing methods from the `fifo` class to manage nodes during the search.\n",
    "- **Initial State**: The starting node (`start`) is pushed onto the stack, as identified in previous functions.\n",
    "- **Predecessors Dictionary**: The `predecessors{}` dictionary functions similarly to an explored list; it records node traversal and returns the solution path when the goal is found.\n",
    "- **Current Node**: The `current_cell`, analogous to the current node, is the most recently added node on the stack, retrieved using the `fifo.pop(0)` method.\n",
    "- **Expanding Frontier**: The frontier expands as the nested `for` loop iterates over directions, pushing neighbors onto the stack. Neighbors are discovered by adding the directional offset to the current node's array index. *Example:* Turn Right = `current_column + 1`.\n",
    "- **Dead End Handling**: The `is_legal_pos()` function checks for dead ends, walls, and maze boundaries, ensuring movements are within the permissible range.\n",
    "- **Goal Check & Solution Path**: If the current node is the goal, the `get_path()` function is invoked to backtrack through the `predecessors` dictionary and construct the path from the start to the goal.\n"
   ]
  },
  {
   "cell_type": "code",
   "id": "2eb9647165c01ff8",
   "metadata": {
    "ExecuteTime": {
     "end_time": "2024-08-28T14:20:34.522753Z",
     "start_time": "2024-08-28T14:20:34.518794Z"
    }
   },
   "source": [
    "bfs_solution_path, bfs_traversed = bfs(bfs_a3_maze, bfs_a3_maze_start_point, bfs_a3_maze_goal_point)\n",
    "print(\"Solution path:\", bfs_solution_path, \"\\nTraversed:\", bfs_traversed)"
   ],
   "outputs": [
    {
     "name": "stdout",
     "output_type": "stream",
     "text": [
      "Solution path: [(2, 2), (3, 2), (4, 2), (5, 2), (5, 1), (6, 1), (7, 1), (7, 2), (7, 3), (7, 4), (7, 5), (7, 6), (7, 7), (7, 8), (8, 8), (9, 8), (9, 9), (9, 10), (8, 10), (7, 10), (6, 10), (5, 10), (4, 10), (3, 10), (2, 10), (1, 10), (1, 11), (1, 12), (1, 13), (1, 14), (1, 15), (1, 16), (1, 17), (1, 18), (1, 19), (1, 20), (1, 21), (1, 22), (2, 22), (3, 22), (4, 22), (5, 22), (6, 22), (7, 22), (8, 22), (9, 22), (10, 22), (10, 21), (10, 20), (9, 20), (8, 20), (7, 20), (6, 20), (5, 20), (4, 20)] \n",
      "Traversed: [(2, 2), (1, 2), (2, 3), (3, 2), (2, 1), (1, 3), (1, 1), (2, 4), (3, 3), (4, 2), (3, 1), (1, 4), (2, 5), (3, 4), (4, 3), (5, 2), (4, 1), (1, 5), (2, 6), (3, 5), (4, 4), (5, 3), (5, 1), (1, 6), (2, 7), (3, 6), (4, 5), (5, 4), (6, 1), (1, 7), (2, 8), (3, 7), (4, 6), (5, 5), (7, 1), (1, 8), (3, 8), (4, 7), (5, 6), (7, 2), (8, 1), (4, 8), (5, 7), (7, 3), (8, 2), (9, 1), (5, 8), (7, 4), (8, 3), (10, 1), (7, 5), (8, 4), (10, 2), (7, 6), (8, 5), (10, 3), (7, 7), (8, 6), (9, 5), (7, 8), (8, 7), (9, 6), (10, 5), (8, 8), (9, 7), (9, 8), (9, 9), (9, 10), (8, 10), (9, 11), (10, 10), (7, 10), (8, 11), (9, 12), (10, 11), (6, 10), (7, 11), (8, 12), (9, 13), (10, 12), (5, 10), (6, 11), (7, 12), (9, 14), (10, 13), (4, 10), (5, 11), (6, 12), (9, 15), (10, 14), (3, 10), (4, 11), (5, 12), (9, 16), (10, 15), (2, 10), (3, 11), (4, 12), (8, 16), (10, 16), (1, 10), (2, 11), (3, 12), (7, 16), (1, 11), (2, 12), (3, 13), (6, 16), (1, 12), (2, 13), (3, 14), (5, 16), (6, 15), (1, 13), (2, 14), (3, 15), (5, 15), (6, 14), (1, 14), (2, 15), (3, 16), (7, 14), (1, 15), (2, 16), (1, 16), (1, 17), (1, 18), (1, 19), (1, 20), (1, 21), (1, 22), (2, 22), (3, 22), (4, 22), (5, 22), (6, 22), (7, 22), (8, 22), (9, 22), (10, 22), (10, 21), (10, 20), (9, 20), (10, 19), (8, 20), (9, 19), (10, 18), (7, 20), (8, 19), (9, 18), (6, 20), (7, 19), (8, 18), (5, 20), (6, 19), (7, 18), (4, 20)]\n"
     ]
    }
   ],
   "execution_count": 7
  },
  {
   "cell_type": "markdown",
   "id": "8fa29e5a4837ecef",
   "metadata": {},
   "source": [
    "#### Visualize the Results\n",
    "- Run the BFS algorithm and visualize the results using MatplotLip.\n",
    "- The function `update_maze_with_path()` plots the path on the maze as 4 "
   ]
  },
  {
   "cell_type": "code",
   "id": "2badf851252de6af",
   "metadata": {
    "ExecuteTime": {
     "end_time": "2024-08-28T14:20:34.591003Z",
     "start_time": "2024-08-28T14:20:34.524220Z"
    }
   },
   "source": [
    "plot_maze(bfs_a3_maze, \"Problem Space\")"
   ],
   "outputs": [
    {
     "data": {
      "text/plain": [
       "<Figure size 500x500 with 1 Axes>"
      ],
      "image/png": "[encoded data removed]"
     },
     "metadata": {},
     "output_type": "display_data"
    }
   ],
   "execution_count": 8
  },
  {
   "cell_type": "code",
   "id": "70b7df57bbfd4a2d",
   "metadata": {
    "ExecuteTime": {
     "end_time": "2024-08-28T14:20:34.665095Z",
     "start_time": "2024-08-28T14:20:34.592615Z"
    }
   },
   "source": [
    "bfs_updated = update_maze_with_path(bfs_a3_maze, bfs_solution_path, bfs_traversed, bfs_a3_maze_start_point,\n",
    "                                    bfs_a3_maze_goal_point)\n",
    "\n",
    "print(bfs_updated)\n",
    "plot_maze(bfs_updated, \"BFS: Traversed VS Solution Path\")"
   ],
   "outputs": [
    {
     "name": "stdout",
     "output_type": "stream",
     "text": [
      "[[1 1 1 1 1 1 1 1 1 1 1 1 1 1 1 1 1 1 1 1 1 1 1 1]\n",
      " [1 6 6 6 6 6 6 6 6 1 4 4 4 4 4 4 4 4 4 4 4 4 4 1]\n",
      " [1 6 2 6 6 6 6 6 6 1 4 6 6 6 6 6 6 1 1 1 1 1 4 1]\n",
      " [1 6 4 6 6 6 6 6 6 1 4 6 6 6 6 6 6 1 0 0 0 1 4 1]\n",
      " [1 6 4 6 6 6 6 6 6 1 4 6 6 1 1 1 1 1 0 0 9 1 4 1]\n",
      " [1 4 4 6 6 6 6 6 6 1 4 6 6 1 1 6 6 1 0 0 4 1 4 1]\n",
      " [1 4 1 1 1 1 1 1 1 1 4 6 6 1 6 6 6 1 0 6 4 1 4 1]\n",
      " [1 4 4 4 4 4 4 4 4 1 4 6 6 1 6 1 6 1 6 6 4 1 4 1]\n",
      " [1 6 6 6 6 6 6 6 4 1 4 6 6 1 1 1 6 1 6 6 4 1 4 1]\n",
      " [1 6 1 1 1 6 6 6 4 4 4 6 6 6 6 6 6 1 6 6 4 1 4 1]\n",
      " [1 6 6 6 1 6 1 1 1 1 6 6 6 6 6 6 6 1 6 6 4 4 4 1]\n",
      " [1 1 1 1 1 1 1 1 1 1 1 1 1 1 1 1 1 1 1 1 1 1 1 1]]\n"
     ]
    },
    {
     "data": {
      "text/plain": [
       "<Figure size 500x500 with 1 Axes>"
      ],
      "image/png": "[encoded data removed]"
     },
     "metadata": {},
     "output_type": "display_data"
    }
   ],
   "execution_count": 9
  },
  {
   "cell_type": "markdown",
   "id": "1e5b418450f5cd49",
   "metadata": {},
   "source": [
    "## Depth First Search - *Uninformed Search*\n",
    "Depth First Search (DFS) explores the deepest node in the current frontier using a Last In First Out (LIFO) stack, where the most recently discovered node is expanded first. The implementation is modified for the graph search, which checks if a node has been previously expanded to prevent infinite loops. Search strategies in DFS and other methods primarily differ in how they determine the order of node expansion.\n",
    "### Search Strategy\n",
    "- Initializes the frontier using the initial state of the problem. Explore set = None.\n",
    "- Take the last node in the queue of the stack and remove it from the frontier. \n",
    "- Check if the node is goal state. \n",
    "-   if it is, return solution path \n",
    "-   if not? continue\n",
    "- Add the node to explored set\n",
    "- Expand node and add resulting nodes to frontier\n",
    "- Loop until frontier is empty or goal is found. \n",
    "### Steps:\n",
    "1. **Convert the maze into a 2D Array**: Load maze data and convert it to integer format for processing.\n",
    "2. **Implementing DFS**: Use a custom stack class to manage the nodes during the search process.\n",
    "3. **Visualizing the Path**: Use matplotlib to illustrate the start, the path, and the goal within the maze."
   ]
  },
  {
   "cell_type": "markdown",
   "id": "99087c6ca1d70195",
   "metadata": {},
   "source": [
    "#### Load and Prepare Maze Data\n",
    "1. Load the maze data and convert it to a usable format.\n",
    "2. Find the starting state (2)\n",
    "3. Find the end state (9) \n",
    "4. Call the DFS function on the converted maze\n",
    "5. Plot the Path"
   ]
  },
  {
   "cell_type": "code",
   "id": "2f903e23c5a871e1",
   "metadata": {
    "ExecuteTime": {
     "end_time": "2024-08-28T14:20:34.674883Z",
     "start_time": "2024-08-28T14:20:34.667452Z"
    }
   },
   "source": [
    "# take the string maze, load it to text with numpy\n",
    "# Convert string type to int\n",
    "dfs_maze_array_string = np.loadtxt('/Users/calebcougle/PycharmProjects/CAI104_COUGLE_A3/Mazes/a3maze.txt', dtype='str',\n",
    "                                   delimiter=\",\")\n",
    "dfs_a3_maze = string_to_int_array(dfs_maze_array_string)\n",
    "# The output is a 2D numpy array \n",
    "print(dfs_a3_maze)"
   ],
   "outputs": [
    {
     "name": "stdout",
     "output_type": "stream",
     "text": [
      "[[1 1 1 1 1 1 1 1 1 1 1 1 1 1 1 1 1 1 1 1 1 1 1 1]\n",
      " [1 0 0 0 0 0 0 0 0 1 0 0 0 0 0 0 0 0 0 0 0 0 0 1]\n",
      " [1 0 2 0 0 0 0 0 0 1 0 0 0 0 0 0 0 1 1 1 1 1 0 1]\n",
      " [1 0 0 0 0 0 0 0 0 1 0 0 0 0 0 0 0 1 0 0 0 1 0 1]\n",
      " [1 0 0 0 0 0 0 0 0 1 0 0 0 1 1 1 1 1 0 0 9 1 0 1]\n",
      " [1 0 0 0 0 0 0 0 0 1 0 0 0 1 1 0 0 1 0 0 0 1 0 1]\n",
      " [1 0 1 1 1 1 1 1 1 1 0 0 0 1 0 0 0 1 0 0 0 1 0 1]\n",
      " [1 0 0 0 0 0 0 0 0 1 0 0 0 1 0 1 0 1 0 0 0 1 0 1]\n",
      " [1 0 0 0 0 0 0 0 0 1 0 0 0 1 1 1 0 1 0 0 0 1 0 1]\n",
      " [1 0 1 1 1 0 0 0 0 0 0 0 0 0 0 0 0 1 0 0 0 1 0 1]\n",
      " [1 0 0 0 1 0 1 1 1 1 0 0 0 0 0 0 0 1 0 0 0 0 0 1]\n",
      " [1 1 1 1 1 1 1 1 1 1 1 1 1 1 1 1 1 1 1 1 1 1 1 1]]\n"
     ]
    }
   ],
   "execution_count": 10
  },
  {
   "cell_type": "code",
   "id": "dcd96552a731c902",
   "metadata": {
    "ExecuteTime": {
     "end_time": "2024-08-28T14:20:34.680463Z",
     "start_time": "2024-08-28T14:20:34.676318Z"
    }
   },
   "source": [
    "dfs_a3_goal_point = find_goal(dfs_a3_maze)\n",
    "dfs_a3_start_point = find_start(dfs_a3_maze)\n",
    "print(\"Start point:\", dfs_a3_start_point, \"\\nGoal:\", dfs_a3_goal_point)"
   ],
   "outputs": [
    {
     "name": "stdout",
     "output_type": "stream",
     "text": [
      "Start point: (2, 2) \n",
      "Goal: (4, 20)\n"
     ]
    }
   ],
   "execution_count": 11
  },
  {
   "cell_type": "markdown",
   "id": "9c377b15cc33dd5c",
   "metadata": {},
   "source": [
    "#### Stack Class Definition\n",
    "- A stack class is used to act as the LIFO queue. \n",
    "- Define a class that stores the frontier\n",
    "- The stack stores the frontier or 'discovered' nodes that are *yet to be explored*.\n",
    "- Methods within the class `stack` perform operations on the queue according to the DFS *search strategy* which is `Last in First Out` or `Stack` queue, which takes the newest node from the queue: \n",
    "-       Pop() \n",
    "-       Is_Empty()\n",
    "-       Push()\n",
    "(Russell & Norvig, 2016)"
   ]
  },
  {
   "cell_type": "code",
   "id": "d2931faefc2066ce",
   "metadata": {
    "ExecuteTime": {
     "end_time": "2024-08-28T14:20:34.767374Z",
     "start_time": "2024-08-28T14:20:34.682111Z"
    }
   },
   "source": [
    "dfs_a3_maze_image = plot_maze(dfs_a3_maze, \"DFS Problem Space\")\n",
    "dfs_a3_maze_image"
   ],
   "outputs": [
    {
     "data": {
      "text/plain": [
       "<Figure size 500x500 with 1 Axes>"
      ],
      "image/png": "[encoded data removed]"
     },
     "metadata": {},
     "output_type": "display_data"
    }
   ],
   "execution_count": 12
  },
  {
   "cell_type": "markdown",
   "id": "127f765b8ccb3056",
   "metadata": {},
   "source": [
    "#### Attributes\n",
    "\n",
    "- **Function Definition**: The `dfs()` function implements the depth-first search algorithm, utilizing methods from the `Stack` class to manage nodes during the search.\n",
    "- **Initial State**: The starting node (`start`) is pushed onto the stack, as identified in previous functions.\n",
    "- **Predecessors Dictionary**: The `predecessors{}` dictionary functions similarly to an explored list; it records node traversal and returns the solution path when the goal is found.\n",
    "- **Current Node**: The `current_cell`, analogous to the current node, is the most recently added node on the stack, retrieved using the `Stack.pop()` method.\n",
    "- **Expanding Frontier**: The frontier expands as the nested `for` loop iterates over directions, pushing neighbors onto the stack. Neighbors are discovered by adding the directional offset to the current node's array index. *Example:* Turn Right = `current_column + 1`.\n",
    "- **Dead End Handling**: The `is_legal_pos()` function checks for dead ends, walls, and maze boundaries, ensuring movements are within the permissible range.\n",
    "- **Goal Check & Solution Path**: If the current node is the goal, the `get_path()` function is invoked to backtrack through the `predecessors` dictionary and construct the path from the start to the goal.\n"
   ]
  },
  {
   "cell_type": "code",
   "id": "423ff88e5ad2f1ba",
   "metadata": {
    "ExecuteTime": {
     "end_time": "2024-08-28T14:20:34.773954Z",
     "start_time": "2024-08-28T14:20:34.769347Z"
    }
   },
   "source": [
    "dfs_solution_path, dfs_traversed = dfs(dfs_a3_maze, dfs_a3_start_point, dfs_a3_goal_point)\n",
    "print(\"Solution path:\", dfs_solution_path, \"\\nTraversed:\", dfs_traversed)"
   ],
   "outputs": [
    {
     "name": "stdout",
     "output_type": "stream",
     "text": [
      "Solution path: [(2, 2), (2, 1), (3, 1), (4, 1), (5, 1), (6, 1), (7, 1), (8, 1), (8, 2), (8, 3), (8, 4), (8, 5), (9, 5), (9, 6), (9, 7), (9, 8), (9, 9), (9, 10), (10, 10), (10, 11), (10, 12), (9, 12), (8, 12), (8, 11), (7, 11), (7, 10), (6, 10), (5, 10), (5, 11), (5, 12), (4, 12), (3, 12), (3, 11), (3, 10), (2, 10), (1, 10), (1, 11), (1, 12), (1, 13), (2, 13), (2, 14), (3, 14), (3, 15), (3, 16), (2, 16), (1, 16), (1, 17), (1, 18), (1, 19), (1, 20), (1, 21), (1, 22), (2, 22), (3, 22), (4, 22), (5, 22), (6, 22), (7, 22), (8, 22), (9, 22), (10, 22), (10, 21), (10, 20), (10, 19), (10, 18), (9, 18), (8, 18), (8, 19), (8, 20), (7, 20), (6, 20), (6, 19), (6, 18), (5, 18), (4, 18), (4, 19), (4, 20)] \n",
      "Traversed: [(2, 2), (2, 1), (3, 1), (4, 1), (5, 1), (6, 1), (7, 1), (8, 1), (9, 1), (10, 1), (10, 2), (10, 3), (8, 2), (8, 3), (8, 4), (8, 5), (9, 5), (10, 5), (9, 6), (9, 7), (9, 8), (9, 9), (9, 10), (10, 10), (10, 11), (10, 12), (10, 13), (10, 14), (10, 15), (10, 16), (9, 16), (8, 16), (7, 16), (6, 16), (6, 15), (6, 14), (7, 14), (5, 15), (5, 16), (9, 15), (9, 14), (9, 13), (9, 12), (8, 12), (8, 11), (7, 11), (7, 10), (6, 10), (5, 10), (5, 11), (5, 12), (6, 12), (4, 12), (3, 12), (3, 11), (3, 10), (2, 10), (1, 10), (1, 11), (1, 12), (1, 13), (2, 13), (2, 14), (3, 14), (3, 15), (3, 16), (2, 16), (1, 16), (1, 15), (1, 17), (1, 18), (1, 19), (1, 20), (1, 21), (1, 22), (2, 22), (3, 22), (4, 22), (5, 22), (6, 22), (7, 22), (8, 22), (9, 22), (10, 22), (10, 21), (10, 20), (10, 19), (10, 18), (9, 18), (8, 18), (8, 19), (8, 20), (7, 20), (6, 20), (6, 19), (6, 18), (5, 18), (4, 18), (4, 19), (4, 20)]\n"
     ]
    }
   ],
   "execution_count": 13
  },
  {
   "cell_type": "markdown",
   "id": "35bf49aa1d031627",
   "metadata": {},
   "source": [
    "#### Visualize the Results\n",
    "- Run the DFS algorithm and visualize the results using MatplotLip.\n",
    "- The function `update_maze_with_path()` plots the path on the maze as 4 "
   ]
  },
  {
   "cell_type": "code",
   "id": "c9358c22e62d2a8b",
   "metadata": {
    "ExecuteTime": {
     "end_time": "2024-08-28T14:20:34.859316Z",
     "start_time": "2024-08-28T14:20:34.779718Z"
    }
   },
   "source": [
    "plot_maze(dfs_a3_maze, \"Depth first search\")"
   ],
   "outputs": [
    {
     "data": {
      "text/plain": [
       "<Figure size 500x500 with 1 Axes>"
      ],
      "image/png": "[encoded data removed]"
     },
     "metadata": {},
     "output_type": "display_data"
    }
   ],
   "execution_count": 14
  },
  {
   "cell_type": "code",
   "id": "a4873046209f54b1",
   "metadata": {
    "ExecuteTime": {
     "end_time": "2024-08-28T14:20:34.866524Z",
     "start_time": "2024-08-28T14:20:34.861767Z"
    }
   },
   "source": [
    "dfs_updated = update_maze_with_path(dfs_a3_maze, dfs_solution_path, dfs_traversed, dfs_a3_start_point,\n",
    "                                    dfs_a3_goal_point)\n",
    "print(dfs_updated)"
   ],
   "outputs": [
    {
     "name": "stdout",
     "output_type": "stream",
     "text": [
      "[[1 1 1 1 1 1 1 1 1 1 1 1 1 1 1 1 1 1 1 1 1 1 1 1]\n",
      " [1 0 0 0 0 0 0 0 0 1 4 4 4 4 0 6 4 4 4 4 4 4 4 1]\n",
      " [1 4 2 0 0 0 0 0 0 1 4 0 0 4 4 0 4 1 1 1 1 1 4 1]\n",
      " [1 4 0 0 0 0 0 0 0 1 4 4 4 0 4 4 4 1 0 0 0 1 4 1]\n",
      " [1 4 0 0 0 0 0 0 0 1 0 0 4 1 1 1 1 1 4 4 9 1 4 1]\n",
      " [1 4 0 0 0 0 0 0 0 1 4 4 4 1 1 6 6 1 4 0 0 1 4 1]\n",
      " [1 4 1 1 1 1 1 1 1 1 4 0 6 1 6 6 6 1 4 4 4 1 4 1]\n",
      " [1 4 0 0 0 0 0 0 0 1 4 4 0 1 6 1 6 1 0 0 4 1 4 1]\n",
      " [1 4 4 4 4 4 0 0 0 1 0 4 4 1 1 1 6 1 4 4 4 1 4 1]\n",
      " [1 6 1 1 1 4 4 4 4 4 4 0 4 6 6 6 6 1 4 0 0 1 4 1]\n",
      " [1 6 6 6 1 6 1 1 1 1 4 4 4 6 6 6 6 1 4 4 4 4 4 1]\n",
      " [1 1 1 1 1 1 1 1 1 1 1 1 1 1 1 1 1 1 1 1 1 1 1 1]]\n"
     ]
    }
   ],
   "execution_count": 15
  },
  {
   "cell_type": "code",
   "id": "d62ec29b0c24a208",
   "metadata": {
    "ExecuteTime": {
     "end_time": "2024-08-28T14:20:34.949430Z",
     "start_time": "2024-08-28T14:20:34.868319Z"
    }
   },
   "source": [
    "plot_maze(dfs_updated, \"DFS: Traversed vs Solution Path\")\n",
    "#plot = plot_path(a3_maze, a3_maze_start, a3_maze_goal_point, bfs_solution_path, bfs_traversed)"
   ],
   "outputs": [
    {
     "data": {
      "text/plain": [
       "<Figure size 500x500 with 1 Axes>"
      ],
      "image/png": "[encoded data removed]"
     },
     "metadata": {},
     "output_type": "display_data"
    }
   ],
   "execution_count": 16
  },
  {
   "cell_type": "markdown",
   "id": "8d9df2edf6f601d7",
   "metadata": {},
   "source": [
    "# Conclusion\n",
    "It was interesting to compare the two blind search strategies. Breadth first search is an optimal algorithm. It is demonstrated in the visualisation that this result comes at the cost of computation. The traversal size is much greater than DFS. DFS returns a less optimal solution path, however, it visits fewer nodes and is less computational expensive. "
   ]
  },
  {
   "cell_type": "code",
   "id": "326c4a954701bf67",
   "metadata": {
    "ExecuteTime": {
     "end_time": "2024-08-28T14:20:34.955357Z",
     "start_time": "2024-08-28T14:20:34.951440Z"
    }
   },
   "source": [
    "# Size of solution path\n",
    "print(\"BFS solution steps:\", len(bfs_solution_path))\n",
    "print(\"DFS solution steps:\", len(dfs_solution_path))"
   ],
   "outputs": [
    {
     "name": "stdout",
     "output_type": "stream",
     "text": [
      "BFS solution steps: 55\n",
      "DFS solution steps: 77\n"
     ]
    }
   ],
   "execution_count": 17
  },
  {
   "cell_type": "code",
   "id": "5deaa128e60fa1ab",
   "metadata": {
    "ExecuteTime": {
     "end_time": "2024-08-28T14:20:34.961164Z",
     "start_time": "2024-08-28T14:20:34.956740Z"
    }
   },
   "source": [
    "#Number of nodes visited:\n",
    "print(\"BFS Number of visited nodes:\", len(bfs_traversed))\n",
    "print(\"DFS Number of visited nodes:\", len(dfs_traversed))"
   ],
   "outputs": [
    {
     "name": "stdout",
     "output_type": "stream",
     "text": [
      "BFS Number of visited nodes: 157\n",
      "DFS Number of visited nodes: 100\n"
     ]
    }
   ],
   "execution_count": 18
  },
  {
   "cell_type": "markdown",
   "id": "5968d425da67f82b",
   "metadata": {},
   "source": [
    "# References\n"
   ]
  }
 ],
 "metadata": {
  "kernelspec": {
   "display_name": "fastai",
   "language": "python",
   "name": "fastai"
  },
  "language_info": {
   "codemirror_mode": {
    "name": "ipython",
    "version": 3
   },
   "file_extension": ".py",
   "mimetype": "text/x-python",
   "name": "python",
   "nbconvert_exporter": "python",
   "pygments_lexer": "ipython3",
   "version": "3.8.2"
  }
 },
 "nbformat": 4,
 "nbformat_minor": 5
}
