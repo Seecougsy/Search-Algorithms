{
 "cells": [
  {
   "cell_type": "markdown",
   "id": "1e5b418450f5cd49",
   "metadata": {},
   "source": [
    "# Depth First search.\n",
    "\n",
    "This algorithm uses a class to execute the FIFO/LIFO functionality of BFS. \n",
    "\n",
    "**Overview**\n",
    "1. Convert the maze into a 2D Array\n",
    "    * Convert string into 2D array using Numpy\n",
    "    * Convert string to int using stringToIntArray()\n",
    "    * Find start point plot_maze() with matplotlib\n"
   ]
  },
  {
   "cell_type": "markdown",
   "id": "35bf49aa1d031627",
   "metadata": {},
   "source": [
    "# The Depth First Search Algorithm"
   ]
  },
  {
   "cell_type": "markdown",
   "id": "18b9220191bbb180",
   "metadata": {},
   "source": [
    "### Creating a stack Queue\n",
    "\n",
    "The functionality of the \"stack\" queue is achieved in a class defined as \"stack\" with the below methods.\n",
    "* push() - Adds an item to the stack.\n",
    "* pop() - Removes the last item in the list and returns its value.\n",
    "* peek() - Shows the last item on the list.\n",
    "* size() - Returns the number of items in the list"
   ]
  },
  {
   "cell_type": "code",
   "execution_count": 38,
   "id": "63a6bd2cc765d0aa",
   "metadata": {
    "ExecuteTime": {
     "end_time": "2024-05-09T05:11:07.403064Z",
     "start_time": "2024-05-09T05:11:07.395839Z"
    }
   },
   "source": [
    "class Stack:\n",
    "\n",
    "    # constructor method\n",
    "    def __init__(self):\n",
    "        self.items = []\n",
    "\n",
    "    # check if stack is empty\n",
    "    def is_empty(self):\n",
    "        return not self.items #<-- so as not to return bool\n",
    "\n",
    "    # add items to the list\n",
    "    def push(self, item):\n",
    "        self.items.append(item)\n",
    "\n",
    "    # removes the last item and returns the value\n",
    "    def pop(self):\n",
    "        return self.items.pop()\n",
    "\n",
    "    # shows list item in list\n",
    "    def peek(self):\n",
    "        return self.items[-1]\n",
    "\n",
    "    # size of list\n",
    "    def size(self):\n",
    "        return len(self.items)\n",
    "\n",
    "    # turns obj into string\n",
    "    def __str__(self):\n",
    "        return str(self.items)"
   ],
   "outputs": []
  },
  {
   "cell_type": "markdown",
   "id": "c4e308ab263acfac",
   "metadata": {},
   "source": [
    "###  Search Method\n",
    "\n",
    "Breadth-first search implemented using the `dfs()` function in the 'helpers' namespace.\n",
    "\n",
    "*Initial state:*\n",
    "- Push starting position to the stack.\n",
    "- Set predecessors to None.\n",
    "\n",
    "*Loop until goal is found or stack is empty:*\n",
    "- Pop last node from stack.\n",
    "- If node is the goal, call `get_path()`.\n",
    "- If not, for each neighbor: check legality and parent status before adding to current cell.\n",
    "\n",
    "\n"
   ]
  },
  {
   "cell_type": "code",
   "execution_count": 37,
   "id": "78e43cd95ede5419",
   "metadata": {
    "ExecuteTime": {
     "end_time": "2024-05-09T05:07:38.556684Z",
     "start_time": "2024-05-09T05:07:38.550424Z"
    }
   },
   "source": [
    "# Import necessary functions from the helpers module\n",
    "from helpers import get_path, is_legal_pos, offsets\n",
    "\n",
    "def dfs(maze, start, goal):\n",
    "    # Initialize a stack and push the start position\n",
    "    stack = Stack()\n",
    "    stack.push(start)\n",
    "    # Track the path taken using a dictionary with start point having no predecessor\n",
    "    predecessors = {start: None}\n",
    "\n",
    "    # Loop until the stack is empty\n",
    "    while not stack.is_empty():\n",
    "        # Pop the top cell from the stack\n",
    "        current_cell = stack.pop()\n",
    "        # If the current cell is the goal, return the path from start to goal\n",
    "        if current_cell == goal:\n",
    "            return get_path(predecessors, start, goal)\n",
    "        # Explore each possible direction\n",
    "        for direction in [\"up\", \"right\", \"down\", \"left\"]:\n",
    "            # Calculate the neighbour's position based on current direction\n",
    "            row_offset, col_offset = offsets[direction]\n",
    "            neighbour = (current_cell[0] + row_offset, current_cell[1] + col_offset)\n",
    "            # If the move is legal and the neighbour hasn't been visited\n",
    "            if is_legal_pos(maze, neighbour) and neighbour not in predecessors:\n",
    "                # Push the valid neighbour into the stack and mark its predecessor\n",
    "                stack.push(neighbour)\n",
    "                predecessors[neighbour] = current_cell\n",
    "    # If no path is found, return None\n",
    "    return None\n"
   ],
   "outputs": []
  },
  {
   "cell_type": "markdown",
   "id": "d0eca0a2c88f13f0",
   "metadata": {},
   "source": [
    "### Returning the Search Path\n",
    "\n",
    "- If the goal is found `get_path()` is called\n",
    "- It takes parameters: `predecessors`, `start`, `goal`\n",
    "- Returns the traversal path as a list "
   ]
  },
  {
   "cell_type": "code",
   "execution_count": 41,
   "id": "1b065fd98158b2f6",
   "metadata": {
    "ExecuteTime": {
     "end_time": "2024-05-09T05:18:53.532430Z",
     "start_time": "2024-05-09T05:18:53.528073Z"
    }
   },
   "source": [
    "def get_path(predecessors, start, goal):\n",
    "    current = goal\n",
    "    path = []\n",
    "    while current != start:\n",
    "        path.append(current)\n",
    "        current = predecessors[current]\n",
    "    path.append(start)\n",
    "    path.reverse()\n",
    "    return path"
   ],
   "outputs": []
  },
  {
   "cell_type": "code",
   "execution_count": 35,
   "id": "d7e12ad7a3c87446",
   "metadata": {
    "ExecuteTime": {
     "end_time": "2024-05-09T04:52:42.146936Z",
     "start_time": "2024-05-09T04:52:42.142326Z"
    }
   },
   "source": [
    "# import the modules creates\n",
    "# These come from the source_code file\n",
    "import numpy as np\n",
    "from source_code.helpers import string_to_int_array"
   ],
   "outputs": []
  },
  {
   "cell_type": "code",
   "execution_count": 36,
   "id": "bf2dfd4aebc7a112",
   "metadata": {
    "ExecuteTime": {
     "end_time": "2024-05-09T04:52:42.170771Z",
     "start_time": "2024-05-09T04:52:42.164594Z"
    }
   },
   "source": [
    "# take the string maze, load it to text with numpy\n",
    "# Convert string type to int\n",
    "maze_array_string = np.loadtxt('Mazes/a3maze.txt', dtype='str', delimiter=\",\")\n",
    "maze = string_to_int_array(maze_array_string)\n",
    "print(maze)"
   ],
   "outputs": []
  },
  {
   "cell_type": "markdown",
   "id": "cad9266ccf82909d",
   "metadata": {},
   "source": [
    "## 2. Create Visualisation of Maze "
   ]
  },
  {
   "cell_type": "code",
   "execution_count": 36,
   "id": "fd68aefb9d91924c",
   "metadata": {
    "ExecuteTime": {
     "end_time": "2024-05-09T04:52:42.206376Z",
     "start_time": "2024-05-09T04:52:42.202886Z"
    }
   },
   "source": [],
   "outputs": []
  }
 ],
 "metadata": {
  "kernelspec": {
   "display_name": "Python 3 (ipykernel)",
   "language": "python",
   "name": "python3"
  },
  "language_info": {
   "codemirror_mode": {
    "name": "ipython",
    "version": 3
   },
   "file_extension": ".py",
   "mimetype": "text/x-python",
   "name": "python",
   "nbconvert_exporter": "python",
   "pygments_lexer": "ipython3",
   "version": "3.9.18"
  },
  "varInspector": {
   "cols": {
    "lenName": 16,
    "lenType": 16,
    "lenVar": 40
   },
   "kernels_config": {
    "python": {
     "delete_cmd_postfix": "",
     "delete_cmd_prefix": "del ",
     "library": "var_list.py",
     "varRefreshCmd": "print(var_dic_list())"
    },
    "r": {
     "delete_cmd_postfix": ") ",
     "delete_cmd_prefix": "rm(",
     "library": "var_list.r",
     "varRefreshCmd": "cat(var_dic_list()) "
    }
   },
   "types_to_exclude": [
    "module",
    "function",
    "builtin_function_or_method",
    "instance",
    "_Feature"
   ],
   "window_display": false
  }
 },
 "nbformat": 4,
 "nbformat_minor": 5
}
